{
 "cells": [
  {
   "attachments": {},
   "cell_type": "markdown",
   "metadata": {},
   "source": [
    "#### 위젯: 화면 구성 요소\n",
    "- Button : 간단한 버튼으로 명령을 수행할 때 사용\n",
    "- Canvas : 화면에 무언가를 그릴 때 사용\n",
    "- Checkbutton : 2가지의 구별되는 값을 가지는 변수 표현\n",
    "- Entry : 한 줄의 텍스트를 입력받는 필드\n",
    "- Frame\n",
    "    - 컨테이너 클래스\n",
    "    - 경계선과 배경을 가짐. \n",
    "    - 다른 위젯들을 그룹핑하는데 사용\n",
    "- Panedwindow : 자식 위젯들을 크기조절이 가능한 패널로 관리하는 컨테이너 위젯"
   ]
  },
  {
   "attachments": {},
   "cell_type": "markdown",
   "metadata": {},
   "source": [
    "### 기본 창"
   ]
  },
  {
   "cell_type": "code",
   "execution_count": 1,
   "metadata": {},
   "outputs": [],
   "source": [
    "from tkinter import Tk\n",
    "\n",
    "win = Tk()\n",
    "\n",
    "if __name__ == \"__main__\":\n",
    "    win.mainloop()"
   ]
  },
  {
   "cell_type": "code",
   "execution_count": 7,
   "metadata": {},
   "outputs": [],
   "source": [
    "from tkinter import Tk\n",
    "\n",
    "win = Tk()\n",
    "\n",
    "# win.geometry(\"{width}x{height}+{x0}+{y0}\")\n",
    "win.geometry(\"300x300+100+500\")\n",
    "win.title(\"this is title\")\n",
    "# win.resiable(width=False, height=False)\n",
    "win.resizable(True, True)\n",
    "\n",
    "win.mainloop()"
   ]
  },
  {
   "attachments": {},
   "cell_type": "markdown",
   "metadata": {},
   "source": [
    "#### 위젯 배치하기\n",
    "배치관리자\n",
    "- pack (압축 배치관리자): 한 줄로 이어붙여서 배치\n",
    "- grid (격자 배치관리자): 행, 열의 위치를 지정해 배치\n",
    "- place (절대 배치관리자): 절대 좌표를 이용해 강제 위치 지정"
   ]
  },
  {
   "cell_type": "code",
   "execution_count": 1,
   "metadata": {
    "ExecuteTime": {
     "end_time": "2023-06-24T07:43:45.665137100Z",
     "start_time": "2023-06-24T07:43:27.638954800Z"
    }
   },
   "outputs": [],
   "source": [
    "from tkinter import Tk\n",
    "from tkinter.ttk import Button, Label\n",
    "\n",
    "win = Tk()\n",
    "\n",
    "lbl = Label(win, text=\"아래 버튼을 누르세요.\")\n",
    "btn1 = Button(win, text=\"확인\")\n",
    "btn2 = Button(win, text=\"취소\")\n",
    "\n",
    "# 이렇게 하면\n",
    "btn2.pack()\n",
    "lbl.pack()\n",
    "btn1.pack()\n",
    "\n",
    "# 이렇게 순서대로 뜸\n",
    "'''\n",
    "[취소]\n",
    "[아래 버튼을 누르세요.]\n",
    "[확인]\n",
    "'''\n",
    "\n",
    "win.mainloop()"
   ]
  },
  {
   "cell_type": "code",
   "execution_count": 23,
   "metadata": {},
   "outputs": [],
   "source": [
    "from tkinter import Tk\n",
    "from tkinter.ttk import Button, Label\n",
    "\n",
    "win = Tk()\n",
    "\n",
    "lbl = Label(win, text=\"아래 버튼을 누르세요.\")\n",
    "btn1 = Button(win, text=\"확인\")\n",
    "btn2 = Button(win, text=\"취소\")\n",
    "\n",
    "# expand=True로 하면 창 크기를 확장해도 그 비율에 맞게 늘어남\n",
    "btn2.pack(expand=True)\n",
    "lbl.pack(expand=True)\n",
    "btn1.pack(expand=True)\n",
    "\n",
    "win.mainloop()"
   ]
  },
  {
   "attachments": {},
   "cell_type": "markdown",
   "metadata": {},
   "source": [
    "#### PanedWindow 사용"
   ]
  },
  {
   "cell_type": "code",
   "execution_count": 2,
   "metadata": {
    "ExecuteTime": {
     "end_time": "2023-06-24T07:44:26.679918100Z",
     "start_time": "2023-06-24T07:43:59.745993700Z"
    }
   },
   "outputs": [],
   "source": [
    "from tkinter import Tk, PanedWindow\n",
    "from tkinter.ttk import Button, Label, Entry\n",
    "\n",
    "win = Tk()\n",
    "\n",
    "lbl = Label(win, text=\"성명: \")\n",
    "entry = Entry(win)\n",
    "\n",
    "lbl.pack()\n",
    "entry.pack()\n",
    "\n",
    "# PanedWindow(relief=종류, bd=테두리두께)\n",
    "# relief: raised, sunken, flat, ridge, groove, solid\n",
    "panedwindow = PanedWindow(relief=\"raised\", bd=1)\n",
    "panedwindow.pack()\n",
    "\n",
    "btn_ok = Button(panedwindow, text=\"확인\")\n",
    "btn_cancel = Button(panedwindow, text=\"취소\")\n",
    "\n",
    "panedwindow.add(btn_ok)\n",
    "panedwindow.add(btn_cancel)\n",
    "\n",
    "win.mainloop()"
   ]
  },
  {
   "attachments": {},
   "cell_type": "markdown",
   "metadata": {},
   "source": [
    "#### 버튼 이벤트"
   ]
  },
  {
   "cell_type": "code",
   "execution_count": 24,
   "metadata": {},
   "outputs": [
    {
     "name": "stdout",
     "output_type": "stream",
     "text": [
      "버튼이 클릭되었습니다\n",
      "버튼이 클릭되었습니다\n"
     ]
    }
   ],
   "source": [
    "from tkinter import Tk\n",
    "from tkinter.ttk import Button, Label, Entry\n",
    "\n",
    "def btn_handler():\n",
    "    print('버튼이 클릭되었습니다')\n",
    "    value = entry.get()\n",
    "    lbl.config(text=f'성명: {value}')\n",
    "\n",
    "win = Tk()\n",
    "\n",
    "lbl = Label(win, text=\"성명: \")\n",
    "entry = Entry(win)\n",
    "btn = Button(win, text=\"확인\", command=btn_handler)\n",
    "\n",
    "lbl.pack()\n",
    "entry.pack()\n",
    "btn.pack()\n",
    "\n",
    "win.mainloop()"
   ]
  },
  {
   "attachments": {},
   "cell_type": "markdown",
   "metadata": {},
   "source": [
    "#### 마우스 이벤트"
   ]
  },
  {
   "cell_type": "code",
   "execution_count": 3,
   "metadata": {
    "ExecuteTime": {
     "end_time": "2023-06-24T07:46:16.295589800Z",
     "start_time": "2023-06-24T07:46:06.335860900Z"
    }
   },
   "outputs": [],
   "source": [
    "from tkinter import Tk\n",
    "from tkinter.ttk import Label\n",
    "# from tkinter import Tk, Label로 가져와도 됨\n",
    "\n",
    "x, y = 150, 100\n",
    "\n",
    "def left_click(event):\n",
    "    global x\n",
    "    x -= 10\n",
    "    lbl.place(x=x, y=y)\n",
    "\n",
    "def wheel_click(event):\n",
    "    global x\n",
    "    x = event.x\n",
    "    lbl.place(x=x, y=y)\n",
    "\n",
    "def right_click(event):\n",
    "    global x\n",
    "    x += 10\n",
    "    lbl.place(x=x, y=y)\n",
    "\n",
    "win = Tk()\n",
    "win.geometry(\"300x200+100+100\")\n",
    "\n",
    "lbl = Label(win, text=\"GSA\")\n",
    "lbl.place(x=x, y=y)\n",
    "\n",
    "win.bind(\"<Button-1>\", left_click)\n",
    "win.bind(\"<Button-2>\", wheel_click)\n",
    "win.bind(\"<Button-3>\", right_click)\n",
    "\n",
    "win.mainloop()"
   ]
  },
  {
   "attachments": {},
   "cell_type": "markdown",
   "metadata": {},
   "source": [
    "#### 이미지 표시"
   ]
  },
  {
   "cell_type": "code",
   "execution_count": 6,
   "metadata": {
    "ExecuteTime": {
     "end_time": "2023-06-24T07:47:51.006788600Z",
     "start_time": "2023-06-24T07:47:48.633485900Z"
    }
   },
   "outputs": [],
   "source": [
    "from tkinter import Tk, PhotoImage, Label, Button\n",
    "\n",
    "def changed(newimg):\n",
    "    # 이건 구조가 뭐 어케 생겼길래 이러냐\n",
    "    imagelabel.config(image=newimg)\n",
    "    imagelabel.image = newimg\n",
    "\n",
    "def img_java():\n",
    "    newimg = PhotoImage(file=\"./images/logo_java.png\")\n",
    "    changed(newimg)\n",
    "\n",
    "def img_nodejs():\n",
    "    newimg = PhotoImage(file=\"./images/logo_nodejs.png\")\n",
    "    changed(newimg)\n",
    "\n",
    "def img_python():\n",
    "    newimg = PhotoImage(file=\"./images/logo_python.png\")\n",
    "    changed(newimg)\n",
    "\n",
    "win = Tk()\n",
    "win.geometry(\"600x400+100+100\")\n",
    "\n",
    "image = PhotoImage(file=\"./images/logo_python.png\")\n",
    "imagelabel = Label(win, image=image, width=600, height=350)\n",
    "\n",
    "btn_python = Button(win, text=\"python\", command=img_python)\n",
    "btn_nodejs = Button(win, text=\"nodejs\", command=img_nodejs)\n",
    "btn_java = Button(win, text=\"java\", command=img_java)\n",
    "\n",
    "# columnspan: 열 병합\n",
    "imagelabel.grid(row=0, column=0, columnspan=3)\n",
    "btn_python.grid(row=1, column=0)\n",
    "btn_nodejs.grid(row=1, column=1)\n",
    "btn_java.grid(row=1, column=2)\n",
    "\n",
    "win.mainloop()"
   ]
  },
  {
   "cell_type": "code",
   "execution_count": null,
   "metadata": {},
   "outputs": [],
   "source": []
  }
 ],
 "metadata": {
  "kernelspec": {
   "display_name": "Python 3",
   "language": "python",
   "name": "python3"
  },
  "language_info": {
   "codemirror_mode": {
    "name": "ipython",
    "version": 3
   },
   "file_extension": ".py",
   "mimetype": "text/x-python",
   "name": "python",
   "nbconvert_exporter": "python",
   "pygments_lexer": "ipython3",
   "version": "3.11.3"
  },
  "orig_nbformat": 4
 },
 "nbformat": 4,
 "nbformat_minor": 2
}
