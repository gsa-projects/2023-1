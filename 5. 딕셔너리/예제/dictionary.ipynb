{
 "cells": [
  {
   "cell_type": "code",
   "execution_count": 1,
   "metadata": {
    "collapsed": true
   },
   "outputs": [
    {
     "data": {
      "text/plain": "{'name': '어벤져스 엔드게임', 'type': '히어로 무비'}"
     },
     "execution_count": 1,
     "metadata": {},
     "output_type": "execute_result"
    }
   ],
   "source": [
    "dict_a = {\n",
    "    \"name\": \"어벤져스 엔드게임\",\n",
    "    \"type\": \"히어로 무비\",\n",
    "}\n",
    "\n",
    "dict_a"
   ]
  },
  {
   "cell_type": "code",
   "execution_count": 2,
   "outputs": [
    {
     "name": "stdout",
     "output_type": "stream",
     "text": [
      "name:  7D 건조 망고\n",
      "type:  당절임\n",
      "ingredient:  ['망고', '설탕', '메타중아황산나트륨', '치자황색소']\n",
      "origin:  필리핀\n",
      "\n",
      "name:  8D 건조 망고\n"
     ]
    }
   ],
   "source": [
    "dict_a = {\n",
    "    \"name\": \"7D 건조 망고\",\n",
    "    \"type\": \"당절임\",\n",
    "    \"ingredient\": [\"망고\", \"설탕\", \"메타중아황산나트륨\", \"치자황색소\"],\n",
    "    \"origin\": \"필리핀\"\n",
    "}\n",
    "\n",
    "print(\"name:\", dict_a[\"name\"])\n",
    "print(\"type:\", dict_a[\"type\"])\n",
    "print(\"ingredient:\", dict_a[\"ingredient\"])\n",
    "print(\"origin:\", dict_a[\"origin\"])\n",
    "print()\n",
    "\n",
    "dict_a[\"name\"] = \"8D 건조 망고\"\n",
    "print(\"name:\", dict_a[\"name\"])"
   ],
   "metadata": {
    "collapsed": false
   }
  },
  {
   "cell_type": "code",
   "execution_count": 3,
   "outputs": [
    {
     "name": "stdout",
     "output_type": "stream",
     "text": [
      "['망고', '설탕', '메타중아황산나트륨', '치자황색소']\n",
      "설탕\n"
     ]
    }
   ],
   "source": [
    "print(dict_a[\"ingredient\"])\n",
    "print(dict_a[\"ingredient\"][1])"
   ],
   "metadata": {
    "collapsed": false
   }
  },
  {
   "cell_type": "code",
   "execution_count": 4,
   "outputs": [
    {
     "data": {
      "text/plain": "{'name': '8D 건조 망고',\n 'type': '당절임',\n 'ingredient': ['망고', '설탕', '메타중아황산나트륨', '치자황색소'],\n 'origin': '필리핀',\n 'price': 5000}"
     },
     "execution_count": 4,
     "metadata": {},
     "output_type": "execute_result"
    }
   ],
   "source": [
    "dict_a[\"price\"] = 5000\n",
    "dict_a"
   ],
   "metadata": {
    "collapsed": false
   }
  },
  {
   "cell_type": "code",
   "execution_count": 6,
   "outputs": [
    {
     "name": "stdout",
     "output_type": "stream",
     "text": [
      "존재하지 않는 키에 접근하고 있습니다.\n"
     ]
    }
   ],
   "source": [
    "key = input(\"> 접근하고자 하는 키: \")\n",
    "\n",
    "if key in dict_a:\n",
    "    print(dict_a[key])\n",
    "else:\n",
    "    print(\"존재하지 않는 키에 접근하고 있습니다.\")"
   ],
   "metadata": {
    "collapsed": false
   }
  },
  {
   "cell_type": "code",
   "execution_count": 8,
   "outputs": [
    {
     "name": "stdout",
     "output_type": "stream",
     "text": [
      "존재하지 않는 키에 접근하고 있습니다.\n"
     ]
    }
   ],
   "source": [
    "key = input(\"> 접근하고자 하는 키: \")\n",
    "\n",
    "value = dict_a.get(key)\n",
    "\n",
    "if value == None:\n",
    "    print(\"존재하지 않는 키에 접근하고 있습니다.\")\n",
    "else:\n",
    "    print(value)"
   ],
   "metadata": {
    "collapsed": false
   }
  },
  {
   "cell_type": "code",
   "execution_count": 9,
   "outputs": [
    {
     "name": "stdout",
     "output_type": "stream",
     "text": [
      "name : 8D 건조 망고\n",
      "type : 당절임\n",
      "ingredient : ['망고', '설탕', '메타중아황산나트륨', '치자황색소']\n",
      "origin : 필리핀\n",
      "price : 5000\n"
     ]
    }
   ],
   "source": [
    "for key in dict_a:\n",
    "    print(key, \":\", dict_a[key])"
   ],
   "metadata": {
    "collapsed": false
   }
  },
  {
   "cell_type": "code",
   "execution_count": 11,
   "outputs": [
    {
     "name": "stdout",
     "output_type": "stream",
     "text": [
      "dict_keys(['name', 'phone', 'birth'])\n",
      "dict_values(['pey', '0119993323', '1118'])\n",
      "dict_items([('name', 'pey'), ('phone', '0119993323'), ('birth', '1118')])\n"
     ]
    }
   ],
   "source": [
    "a = { \"name\": \"pey\", \"phone\": \"0119993323\", \"birth\": \"1118\" }\n",
    "print(a.keys())\n",
    "print(a.values())\n",
    "print(a.items())"
   ],
   "metadata": {
    "collapsed": false
   }
  },
  {
   "cell_type": "code",
   "execution_count": 13,
   "outputs": [
    {
     "name": "stdout",
     "output_type": "stream",
     "text": [
      "name : pey\n",
      "phone : 0119993323\n",
      "birth : 1118\n"
     ]
    }
   ],
   "source": [
    "for (key, element) in a.items():\n",
    "    print(key, \":\", element)"
   ],
   "metadata": {
    "collapsed": false
   }
  },
  {
   "cell_type": "markdown",
   "source": [],
   "metadata": {
    "collapsed": false
   }
  },
  {
   "cell_type": "code",
   "execution_count": null,
   "outputs": [],
   "source": [],
   "metadata": {
    "collapsed": false
   }
  }
 ],
 "metadata": {
  "kernelspec": {
   "display_name": "Python 3",
   "language": "python",
   "name": "python3"
  },
  "language_info": {
   "codemirror_mode": {
    "name": "ipython",
    "version": 2
   },
   "file_extension": ".py",
   "mimetype": "text/x-python",
   "name": "python",
   "nbconvert_exporter": "python",
   "pygments_lexer": "ipython2",
   "version": "2.7.6"
  }
 },
 "nbformat": 4,
 "nbformat_minor": 0
}
