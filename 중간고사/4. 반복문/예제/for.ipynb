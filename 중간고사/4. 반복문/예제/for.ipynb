{
 "cells": [
  {
   "cell_type": "markdown",
   "metadata": {
    "collapsed": false
   },
   "source": [
    "## for: 반복문"
   ]
  },
  {
   "cell_type": "markdown",
   "metadata": {
    "collapsed": false
   },
   "source": [
    "iterable 한 객체는 for 문을 사용할 수 있다."
   ]
  },
  {
   "cell_type": "code",
   "execution_count": 1,
   "metadata": {
    "collapsed": false
   },
   "outputs": [
    {
     "name": "stdout",
     "output_type": "stream",
     "text": [
      "1 2 3 4 5 \n",
      "1 2 3 4 5 \n",
      "1 2 3 4 5 \n",
      "a b c d e \n",
      "1 2 3 4 5 \n"
     ]
    }
   ],
   "source": [
    "list_a = [1, 2, 3, 4, 5]\n",
    "tuple_a = (1, 2, 3, 4, 5)\n",
    "set_a = {1, 2, 3, 4, 5}\n",
    "dict_a = {\"a\": 1, \"b\": 2, \"c\": 3, \"d\": 4, \"e\": 5}\n",
    "str_a = \"12345\"\n",
    "\n",
    "for e in list_a:\n",
    "    print(e, end=\" \")\n",
    "print()\n",
    "\n",
    "for e in tuple_a:\n",
    "    print(e, end=\" \")\n",
    "print()\n",
    "\n",
    "for e in set_a:\n",
    "    print(e, end=\" \")\n",
    "print()\n",
    "\n",
    "for k in dict_a:\n",
    "    print(k, end=\" \")\n",
    "print()\n",
    "\n",
    "for e in str_a:\n",
    "    print(e, end=\" \")\n",
    "print()"
   ]
  },
  {
   "cell_type": "markdown",
   "metadata": {
    "collapsed": false
   },
   "source": [
    "`range(start=0, end, step=1)` 함수는 iterable 한 객체를 생성한다.\n",
    "- `step`씩 증가하는 [`start`, `end`) 범위의 정수를 생성한다."
   ]
  },
  {
   "cell_type": "code",
   "execution_count": 2,
   "metadata": {
    "collapsed": true
   },
   "outputs": [
    {
     "name": "stdout",
     "output_type": "stream",
     "text": [
      "0 1 2 3 4 5 6 7 8 9\n",
      "2 3 4 5 6 7 8 9\n",
      "2 5 8\n"
     ]
    }
   ],
   "source": [
    "print(*range(10))\n",
    "print(*range(2, 10))\n",
    "print(*range(2, 10, 3))"
   ]
  },
  {
   "cell_type": "markdown",
   "metadata": {
    "collapsed": false
   },
   "source": [
    "`len()`를 사용하면 iterable 한 객체의 길이를 알아낼 수 있다."
   ]
  },
  {
   "cell_type": "code",
   "execution_count": 3,
   "metadata": {
    "collapsed": false
   },
   "outputs": [
    {
     "name": "stdout",
     "output_type": "stream",
     "text": [
      "0번째 반복: 273\n",
      "1번째 반복: 32\n",
      "2번째 반복: 103\n",
      "3번째 반복: 57\n",
      "4번째 반복: 52\n"
     ]
    }
   ],
   "source": [
    "array = [273, 32, 103, 57, 52]\n",
    "\n",
    "for i in range(len(array)):\n",
    "    print(f\"{i}번째 반복: {array[i]}\")"
   ]
  },
  {
   "cell_type": "code",
   "execution_count": 4,
   "metadata": {
    "collapsed": false
   },
   "outputs": [
    {
     "name": "stdout",
     "output_type": "stream",
     "text": [
      "02 04 06 08 10 12 14 16 18 \n",
      "03 06 09 12 15 18 21 24 27 \n",
      "04 08 12 16 20 24 28 32 36 \n",
      "05 10 15 20 25 30 35 40 45 \n",
      "06 12 18 24 30 36 42 48 54 \n",
      "07 14 21 28 35 42 49 56 63 \n",
      "08 16 24 32 40 48 56 64 72 \n",
      "09 18 27 36 45 54 63 72 81 \n"
     ]
    }
   ],
   "source": [
    "for i in range(2, 10):\n",
    "    for j in range(1, 10):\n",
    "        print(f\"{i*j:02d}\", end=\" \")\n",
    "    print()"
   ]
  },
  {
   "attachments": {},
   "cell_type": "markdown",
   "metadata": {
    "collapsed": false
   },
   "source": [
    "**역반복**  \n",
    "`range(##, 음수, ##)`면 조건이 `i > 음수`  \n",
    "`range(##, 양수, ##)`면 조건이 `i < 양수`  "
   ]
  },
  {
   "cell_type": "code",
   "execution_count": 5,
   "metadata": {
    "collapsed": false
   },
   "outputs": [
    {
     "name": "stdout",
     "output_type": "stream",
     "text": [
      "현재 반복 변수: 4\n",
      "현재 반복 변수: 3\n",
      "현재 반복 변수: 2\n",
      "현재 반복 변수: 1\n",
      "현재 반복 변수: 0\n"
     ]
    }
   ],
   "source": [
    "# for (int i = 4; i > -1; i += -1)\n",
    "for i in range(4, -1, -1):\n",
    "    print(f\"현재 반복 변수: {i}\")"
   ]
  },
  {
   "cell_type": "code",
   "execution_count": 6,
   "metadata": {
    "collapsed": false
   },
   "outputs": [
    {
     "name": "stdout",
     "output_type": "stream",
     "text": [
      "현재 반복 변수: 4\n",
      "현재 반복 변수: 3\n",
      "현재 반복 변수: 2\n",
      "현재 반복 변수: 1\n",
      "현재 반복 변수: 0\n"
     ]
    }
   ],
   "source": [
    "for i in reversed(range(5)):\n",
    "    print(\"현재 반복 변수: {}\".format(i))"
   ]
  },
  {
   "cell_type": "markdown",
   "metadata": {
    "collapsed": false
   },
   "source": [
    "**리스트를 순회할 때 요소와 인덱스를 동시에 보는 방법 3가지**"
   ]
  },
  {
   "cell_type": "code",
   "execution_count": 7,
   "metadata": {
    "collapsed": false
   },
   "outputs": [
    {
     "name": "stdout",
     "output_type": "stream",
     "text": [
      "ex_list[0] = A\n",
      "ex_list[1] = B\n",
      "ex_list[2] = C\n"
     ]
    }
   ],
   "source": [
    "# C언어 스타일\n",
    "ex_list = [\"A\", \"B\", \"C\"]\n",
    "\n",
    "i = 0\n",
    "for element in ex_list:\n",
    "    print(f\"ex_list[{i}] = {element}\")\n",
    "    i += 1"
   ]
  },
  {
   "cell_type": "code",
   "execution_count": 8,
   "metadata": {
    "collapsed": false
   },
   "outputs": [
    {
     "name": "stdout",
     "output_type": "stream",
     "text": [
      "ex_list[0] = A\n",
      "ex_list[1] = B\n",
      "ex_list[2] = C\n"
     ]
    }
   ],
   "source": [
    "# Python 스타일\n",
    "ex_list = [\"A\", \"B\", \"C\"]\n",
    "\n",
    "for i in range(len(ex_list)):\n",
    "    print(f\"ex_list[{i}] = {ex_list[i]}\")"
   ]
  },
  {
   "cell_type": "code",
   "execution_count": 9,
   "metadata": {
    "collapsed": false
   },
   "outputs": [
    {
     "name": "stdout",
     "output_type": "stream",
     "text": [
      "ex_list[0] = A\n",
      "ex_list[1] = B\n",
      "ex_list[2] = C\n"
     ]
    }
   ],
   "source": [
    "# enumerate\n",
    "ex_list = [\"A\", \"B\", \"C\"]\n",
    "\n",
    "for i, element in enumerate(ex_list):\n",
    "    print(f\"ex_list[{i}] = {element}\")"
   ]
  },
  {
   "cell_type": "code",
   "execution_count": 10,
   "metadata": {
    "collapsed": false
   },
   "outputs": [
    {
     "name": "stdout",
     "output_type": "stream",
     "text": [
      "<enumerate object at 0x000001869BC71C10>\n",
      "[(0, 'A'), (1, 'B'), (2, 'C')]\n"
     ]
    }
   ],
   "source": [
    "# enumerate 하면 이렇게 생김\n",
    "print(enumerate([\"A\", \"B\", \"C\"]))\n",
    "print(list(enumerate([\"A\", \"B\", \"C\"])))"
   ]
  },
  {
   "attachments": {},
   "cell_type": "markdown",
   "metadata": {
    "collapsed": false
   },
   "source": [
    "#### List Comprehension\n",
    "반복문을 사용하여 리스트를 재조합하는 코드  \n",
    "`list = [expression(a1, a2, ...) for a1, a2, ... in iterable]`  \n",
    "`list = [expression(a1, a2, ...) for a1, a2, ... in iterable if condition]`"
   ]
  },
  {
   "cell_type": "code",
   "execution_count": 11,
   "metadata": {
    "collapsed": false
   },
   "outputs": [
    {
     "data": {
      "text/plain": [
       "[0, 4, 16, 36, 64, 100, 144, 196, 256, 324]"
      ]
     },
     "execution_count": 11,
     "metadata": {},
     "output_type": "execute_result"
    }
   ],
   "source": [
    "array = []\n",
    "for i in range(0, 20, 2):\n",
    "    array.append(i**2)\n",
    "array"
   ]
  },
  {
   "cell_type": "code",
   "execution_count": 12,
   "metadata": {
    "collapsed": false
   },
   "outputs": [
    {
     "data": {
      "text/plain": [
       "[0, 4, 16, 36, 64, 100, 144, 196, 256, 324]"
      ]
     },
     "execution_count": 12,
     "metadata": {},
     "output_type": "execute_result"
    }
   ],
   "source": [
    "# 실제로 런타임 속도도 이게 더 빠름\n",
    "array = [i**2 for i in range(0, 20, 2)]\n",
    "array"
   ]
  },
  {
   "cell_type": "code",
   "execution_count": 13,
   "metadata": {
    "collapsed": false
   },
   "outputs": [
    {
     "data": {
      "text/plain": [
       "['자두', '초콜릿', '바나나', '체리']"
      ]
     },
     "execution_count": 13,
     "metadata": {},
     "output_type": "execute_result"
    }
   ],
   "source": [
    "array = [\"사과\", \"자두\", \"초콜릿\", \"바나나\", \"체리\"]\n",
    "output = [fruit for fruit in array if fruit != \"사과\"]\n",
    "output"
   ]
  },
  {
   "cell_type": "markdown",
   "metadata": {
    "collapsed": false
   },
   "source": [
    "`min()`, `max()`, `sum()`"
   ]
  },
  {
   "cell_type": "code",
   "execution_count": 14,
   "metadata": {
    "collapsed": false
   },
   "outputs": [
    {
     "data": {
      "text/plain": [
       "32"
      ]
     },
     "execution_count": 14,
     "metadata": {},
     "output_type": "execute_result"
    }
   ],
   "source": [
    "# 수작업\n",
    "numbers = [103, 52, 273, 32, 77]\n",
    "\n",
    "min_element = numbers[0]\n",
    "for e in numbers:\n",
    "    if e < min_element:\n",
    "        min_element = e\n",
    "\n",
    "min_element"
   ]
  },
  {
   "cell_type": "code",
   "execution_count": 15,
   "metadata": {
    "collapsed": false
   },
   "outputs": [
    {
     "name": "stdout",
     "output_type": "stream",
     "text": [
      "32\n",
      "273\n",
      "537\n"
     ]
    }
   ],
   "source": [
    "# min()\n",
    "numbers_list = [103, 52, 273, 32, 77]\n",
    "print(min(numbers_list))\n",
    "print(max(numbers_list))\n",
    "print(sum(numbers_list))"
   ]
  },
  {
   "cell_type": "code",
   "execution_count": 15,
   "metadata": {
    "collapsed": false
   },
   "outputs": [],
   "source": []
  }
 ],
 "metadata": {
  "kernelspec": {
   "display_name": "Python 3",
   "language": "python",
   "name": "python3"
  },
  "language_info": {
   "codemirror_mode": {
    "name": "ipython",
    "version": 2
   },
   "file_extension": ".py",
   "mimetype": "text/x-python",
   "name": "python",
   "nbconvert_exporter": "python",
   "pygments_lexer": "ipython2",
   "version": "2.7.6"
  }
 },
 "nbformat": 4,
 "nbformat_minor": 0
}
