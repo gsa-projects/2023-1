{
 "cells": [
  {
   "cell_type": "code",
   "execution_count": null,
   "metadata": {},
   "outputs": [],
   "source": [
    "def func(x):\n",
    "    x += 2\n",
    "    \n",
    "a = int(input())\n",
    "print(f\"a: {a}\")\n",
    "func(a)\n",
    "print(f\"a: {a}\")"
   ]
  },
  {
   "cell_type": "markdown",
   "source": [
    "*values 처럼 `*`기호를 사용해 가변인자를 나타낼 수 있는데, 이때는 함수 내부에서는 **튜플**로 처리된다."
   ],
   "metadata": {
    "collapsed": false
   }
  },
  {
   "cell_type": "code",
   "execution_count": 1,
   "metadata": {},
   "outputs": [
    {
     "name": "stdout",
     "output_type": "stream",
     "text": [
      "안녕하세요\n",
      "반갑습니다\n",
      "감사합니다\n"
     ]
    }
   ],
   "source": [
    "def func(x, y, z, *values):\n",
    "    for value in values:\n",
    "        print(value)\n",
    "\n",
    "func(3, 4, 5, \"안녕하세요\", \"반갑습니다\", \"감사합니다\")"
   ]
  },
  {
   "cell_type": "code",
   "execution_count": 5,
   "outputs": [
    {
     "name": "stdout",
     "output_type": "stream",
     "text": [
      "(1, 2, 3)\n"
     ]
    }
   ],
   "source": [
    "def func(x, y, z, *values):\n",
    "    for value in values:\n",
    "        value += 2\n",
    "    print(values)\n",
    "\n",
    "func(3, 4, 5, 1, 2, 3)"
   ],
   "metadata": {
    "collapsed": false,
    "ExecuteTime": {
     "start_time": "2023-04-03T15:52:07.075024Z",
     "end_time": "2023-04-03T15:52:07.089371Z"
    }
   }
  },
  {
   "cell_type": "code",
   "execution_count": 2,
   "metadata": {},
   "outputs": [
    {
     "name": "stdout",
     "output_type": "stream",
     "text": [
      "안녕하세요\n",
      "안녕하세요\n",
      "안녕하세요\n",
      "반갑습니다\n",
      "반갑습니다\n"
     ]
    }
   ],
   "source": [
    "def func(value, n=2):\n",
    "    for i in range(n):\n",
    "        print(value)\n",
    "        \n",
    "func(\"안녕하세요\", 3)\n",
    "func(\"반갑습니다\")"
   ]
  },
  {
   "cell_type": "code",
   "execution_count": 1,
   "metadata": {
    "ExecuteTime": {
     "start_time": "2023-04-03T15:38:31.936474Z",
     "end_time": "2023-04-03T15:38:31.955342Z"
    }
   },
   "outputs": [
    {
     "name": "stdout",
     "output_type": "stream",
     "text": [
      "5050\n",
      "5050\n"
     ]
    }
   ],
   "source": [
    "def sum_all(start, end):\n",
    "    output = 0\n",
    "    for i in range(start, end+1):\n",
    "        output += i\n",
    "    return output\n",
    "\n",
    "def my_sum_all(start, end):\n",
    "    return sum(range(start, end+1))\n",
    "\n",
    "print(sum_all(0, 100))\n",
    "print(my_sum_all(0, 100))"
   ]
  },
  {
   "cell_type": "code",
   "execution_count": null,
   "outputs": [],
   "source": [
    "def func1(x): return     # 매개변수\n",
    "def func2(*values): return    # 가변 매개변수\n",
    "def func3(z=10): return    # 기본 매개변수, 키워드 매개변수\n",
    "\n",
    "func1(10)\n",
    "func2(10, 20, 30)\n",
    "func3() # z=10, 기본 매개변수\n",
    "func3(z=30) # z=30, 키워드 매개변수"
   ],
   "metadata": {
    "collapsed": false
   }
  },
  {
   "cell_type": "code",
   "execution_count": 2,
   "outputs": [
    {
     "ename": "TypeError",
     "evalue": "func4() missing 1 required keyword-only argument: 'z'",
     "output_type": "error",
     "traceback": [
      "\u001B[1;31m---------------------------------------------------------------------------\u001B[0m",
      "\u001B[1;31mTypeError\u001B[0m                                 Traceback (most recent call last)",
      "Cell \u001B[1;32mIn[2], line 5\u001B[0m\n\u001B[0;32m      2\u001B[0m     \u001B[38;5;28mprint\u001B[39m(z)\n\u001B[0;32m      3\u001B[0m     \u001B[38;5;28mprint\u001B[39m(values)\n\u001B[1;32m----> 5\u001B[0m \u001B[43mfunc4\u001B[49m\u001B[43m(\u001B[49m\u001B[38;5;241;43m10\u001B[39;49m\u001B[43m,\u001B[49m\u001B[43m \u001B[49m\u001B[38;5;241;43m20\u001B[39;49m\u001B[43m,\u001B[49m\u001B[43m \u001B[49m\u001B[38;5;241;43m30\u001B[39;49m\u001B[43m)\u001B[49m\n",
      "\u001B[1;31mTypeError\u001B[0m: func4() missing 1 required keyword-only argument: 'z'"
     ]
    }
   ],
   "source": [
    "def func4(*values, z):\n",
    "    print(z)\n",
    "    print(values)\n",
    "\n",
    "func4(10, 20, 30)"
   ],
   "metadata": {
    "collapsed": false
   }
  },
  {
   "cell_type": "code",
   "execution_count": 3,
   "outputs": [
    {
     "name": "stdout",
     "output_type": "stream",
     "text": [
      "40\n",
      "(10, 20, 30)\n"
     ]
    }
   ],
   "source": [
    "def func4(*values, z):\n",
    "    print(z)\n",
    "    print(values)\n",
    "\n",
    "func4(10, 20, 30, z=40)"
   ],
   "metadata": {
    "collapsed": false,
    "ExecuteTime": {
     "start_time": "2023-04-03T15:50:18.061117Z",
     "end_time": "2023-04-03T15:50:18.085202Z"
    }
   }
  },
  {
   "cell_type": "code",
   "execution_count": null,
   "outputs": [],
   "source": [],
   "metadata": {
    "collapsed": false
   }
  }
 ],
 "metadata": {
  "kernelspec": {
   "display_name": "Python 3",
   "language": "python",
   "name": "python3"
  },
  "language_info": {
   "codemirror_mode": {
    "name": "ipython",
    "version": 3
   },
   "file_extension": ".py",
   "mimetype": "text/x-python",
   "name": "python",
   "nbconvert_exporter": "python",
   "pygments_lexer": "ipython3",
   "version": "3.11.2"
  }
 },
 "nbformat": 4,
 "nbformat_minor": 0
}
