{
 "cells": [
  {
   "cell_type": "code",
   "execution_count": 4,
   "metadata": {
    "collapsed": false
   },
   "outputs": [
    {
     "name": "stdout",
     "output_type": "stream",
     "text": [
      "kr\n"
     ]
    }
   ],
   "source": [
    "url = input(\"URL: \")\n",
    "print(url.split('.')[-1])"
   ]
  },
  {
   "cell_type": "code",
   "execution_count": 5,
   "metadata": {
    "collapsed": false
   },
   "outputs": [
    {
     "name": "stdout",
     "output_type": "stream",
     "text": [
      "BuBBle2345BuBBle\n"
     ]
    }
   ],
   "source": [
    "string = \"bubble2345bubble\"\n",
    "string = string.replace('b', 'B')\n",
    "print(string)"
   ]
  },
  {
   "cell_type": "code",
   "execution_count": 6,
   "metadata": {
    "collapsed": false
   },
   "outputs": [
    {
     "name": "stdout",
     "output_type": "stream",
     "text": [
      "Nike\n"
     ]
    }
   ],
   "source": [
    "s = \"dfadfNikedfa\"\n",
    "print(s[5:9])"
   ]
  },
  {
   "cell_type": "code",
   "execution_count": 11,
   "metadata": {},
   "outputs": [
    {
     "data": {
      "text/plain": [
       "[2, 3, 5, 7, 11, 13, 17, 19]"
      ]
     },
     "execution_count": 11,
     "metadata": {},
     "output_type": "execute_result"
    }
   ],
   "source": [
    "primes = []\n",
    "\n",
    "for i in range(2, 21):\n",
    "    j = 2\n",
    "    is_prime = True\n",
    "    \n",
    "    while j * j <= i:\n",
    "        if i % j == 0:\n",
    "            is_prime = False\n",
    "            break\n",
    "        j += 1\n",
    "        \n",
    "    if is_prime:\n",
    "        primes.append(i)\n",
    "    \n",
    "primes"
   ]
  },
  {
   "cell_type": "code",
   "execution_count": 4,
   "metadata": {},
   "outputs": [
    {
     "data": {
      "text/plain": [
       "[2, 3, 5, 7, 11, 13, 17, 19]"
      ]
     },
     "execution_count": 4,
     "metadata": {},
     "output_type": "execute_result"
    }
   ],
   "source": [
    "primes = []\n",
    "\n",
    "for i in range(2, 21):\n",
    "    j = 2\n",
    "    \n",
    "    while j * j <= i:\n",
    "        if i % j == 0:\n",
    "            break\n",
    "        j += 1\n",
    "    else:\n",
    "        primes.append(i)\n",
    "    \n",
    "primes"
   ]
  },
  {
   "cell_type": "code",
   "execution_count": 12,
   "metadata": {},
   "outputs": [
    {
     "data": {
      "text/plain": [
       "24"
      ]
     },
     "execution_count": 12,
     "metadata": {},
     "output_type": "execute_result"
    }
   ],
   "source": [
    "arr = [7, 5, 2, 8, 15, 17, 10, 4, 11]\n",
    "sum([i for i in arr if i % 2 == 0])"
   ]
  },
  {
   "cell_type": "code",
   "execution_count": null,
   "metadata": {},
   "outputs": [],
   "source": []
  }
 ],
 "metadata": {
  "kernelspec": {
   "display_name": "Python 3",
   "language": "python",
   "name": "python3"
  },
  "language_info": {
   "codemirror_mode": {
    "name": "ipython",
    "version": 3
   },
   "file_extension": ".py",
   "mimetype": "text/x-python",
   "name": "python",
   "nbconvert_exporter": "python",
   "pygments_lexer": "ipython3",
   "version": "3.11.2"
  }
 },
 "nbformat": 4,
 "nbformat_minor": 0
}
