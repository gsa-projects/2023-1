{
 "cells": [
  {
   "cell_type": "code",
   "execution_count": 4,
   "metadata": {
    "collapsed": false
   },
   "outputs": [
    {
     "name": "stdout",
     "output_type": "stream",
     "text": [
      "kr\n"
     ]
    }
   ],
   "source": [
    "url = input(\"URL: \")\n",
    "print(url.split('.')[-1])"
   ]
  },
  {
   "cell_type": "code",
   "execution_count": 5,
   "metadata": {
    "collapsed": false
   },
   "outputs": [
    {
     "name": "stdout",
     "output_type": "stream",
     "text": [
      "BuBBle2345BuBBle\n"
     ]
    }
   ],
   "source": [
    "string = \"bubble2345bubble\"\n",
    "string = string.replace('b', 'B')\n",
    "print(string)"
   ]
  },
  {
   "cell_type": "code",
   "execution_count": 6,
   "metadata": {
    "collapsed": false
   },
   "outputs": [
    {
     "name": "stdout",
     "output_type": "stream",
     "text": [
      "Nike\n"
     ]
    }
   ],
   "source": [
    "s = \"dfadfNikedfa\"\n",
    "print(s[5:9])"
   ]
  },
  {
   "cell_type": "code",
   "execution_count": 11,
   "metadata": {},
   "outputs": [
    {
     "data": {
      "text/plain": [
       "[2, 3, 5, 7, 11, 13, 17, 19]"
      ]
     },
     "execution_count": 11,
     "metadata": {},
     "output_type": "execute_result"
    }
   ],
   "source": [
    "primes = []\n",
    "\n",
    "for i in range(2, 21):\n",
    "    j = 2\n",
    "    is_prime = True\n",
    "    \n",
    "    while j * j <= i:\n",
    "        if i % j == 0:\n",
    "            is_prime = False\n",
    "            break\n",
    "        j += 1\n",
    "        \n",
    "    if is_prime:\n",
    "        primes.append(i)\n",
    "    \n",
    "primes"
   ]
  },
  {
   "cell_type": "code",
   "execution_count": 4,
   "metadata": {},
   "outputs": [
    {
     "data": {
      "text/plain": [
       "[2, 3, 5, 7, 11, 13, 17, 19]"
      ]
     },
     "execution_count": 4,
     "metadata": {},
     "output_type": "execute_result"
    }
   ],
   "source": [
    "primes = []\n",
    "\n",
    "for i in range(2, 21):\n",
    "    j = 2\n",
    "    \n",
    "    while j * j <= i:\n",
    "        if i % j == 0:\n",
    "            break\n",
    "        j += 1\n",
    "    else:\n",
    "        primes.append(i)\n",
    "    \n",
    "primes"
   ]
  },
  {
   "cell_type": "code",
   "execution_count": 12,
   "metadata": {},
   "outputs": [
    {
     "data": {
      "text/plain": [
       "24"
      ]
     },
     "execution_count": 12,
     "metadata": {},
     "output_type": "execute_result"
    }
   ],
   "source": [
    "arr = [7, 5, 2, 8, 15, 17, 10, 4, 11]\n",
    "sum([i for i in arr if i % 2 == 0])"
   ]
  },
  {
   "cell_type": "code",
   "execution_count": 4,
   "metadata": {
    "ExecuteTime": {
     "start_time": "2023-04-06T19:44:30.606749Z",
     "end_time": "2023-04-06T19:44:33.342894Z"
    }
   },
   "outputs": [
    {
     "name": "stdout",
     "output_type": "stream",
     "text": [
      "잘못된 점수\n"
     ]
    }
   ],
   "source": [
    "arr = list(map(int, input().split()))\n",
    "\n",
    "valid = True\n",
    "for e in arr:\n",
    "    if not 0 <= e <= 100:\n",
    "        valid = False\n",
    "\n",
    "if valid:\n",
    "    mean = sum(arr) / len(arr)\n",
    "\n",
    "    if mean >= 80:\n",
    "        print(\"합격\")\n",
    "    else:\n",
    "        print(\"불합격\")\n",
    "else:\n",
    "    print(\"잘못된 점수\")"
   ]
  },
  {
   "cell_type": "code",
   "execution_count": 7,
   "outputs": [
    {
     "name": "stdout",
     "output_type": "stream",
     "text": [
      "141를 더할 때 10000을 넘으며 그 때의 값은 10011입니다.\n"
     ]
    }
   ],
   "source": [
    "limit = 10000\n",
    "i = 1\n",
    "sum = i\n",
    "\n",
    "while sum <= limit:\n",
    "    i += 1\n",
    "    sum += i\n",
    "\n",
    "print(\"{}를 더할 때 {}을 넘으며 그 때의 값은 {}입니다.\".format(i, limit, sum))"
   ],
   "metadata": {
    "collapsed": false,
    "ExecuteTime": {
     "start_time": "2023-04-06T19:46:03.371341Z",
     "end_time": "2023-04-06T19:46:03.375508Z"
    }
   }
  },
  {
   "cell_type": "code",
   "execution_count": 61,
   "outputs": [
    {
     "name": "stdout",
     "output_type": "stream",
     "text": [
      "숫자를 맞혀 보세요.(1~100)\n",
      "숫자가 작습니다.\n",
      "숫자가 작습니다.\n",
      "숫자가 작습니다.\n",
      "숫자가 작습니다.\n",
      "숫자가 작습니다.\n",
      "숫자가 큽니다.\n",
      "숫자가 큽니다.\n",
      "숫자가 큽니다.\n",
      "숫자가 작습니다.\n",
      "숫자가 작습니다.\n",
      "숫자가 작습니다.\n",
      "숫자가 작습니다.\n",
      "정답입니다. 입력한 숫자는 84입니다.\n"
     ]
    }
   ],
   "source": [
    "import random\n",
    "number = random.randint(1, 100)\n",
    "\n",
    "print(\"숫자를 맞혀 보세요.(1~100)\")\n",
    "while True:\n",
    "    guess = int(input())\n",
    "\n",
    "    if guess < number:\n",
    "        print(\"숫자가 작습니다.\")\n",
    "    elif guess > number:\n",
    "        print(\"숫자가 큽니다.\")\n",
    "    else:\n",
    "        print(\"정답입니다. 입력한 숫자는 {}입니다.\".format(guess))\n",
    "        break"
   ],
   "metadata": {
    "collapsed": false,
    "ExecuteTime": {
     "start_time": "2023-04-06T20:55:17.095568Z",
     "end_time": "2023-04-06T20:55:55.896485Z"
    }
   }
  },
  {
   "cell_type": "code",
   "execution_count": 11,
   "outputs": [
    {
     "name": "stdout",
     "output_type": "stream",
     "text": [
      "YES\n"
     ]
    }
   ],
   "source": [
    "a = input(\"a> \")\n",
    "b = input(\"b> \")\n",
    "dicA = dict()\n",
    "dicB = dict()\n",
    "\n",
    "for c in a:\n",
    "    if c not in dicA:\n",
    "        dicA[c] = 0\n",
    "    dicA[c] += 1\n",
    "\n",
    "for c in b:\n",
    "    if c not in dicB:\n",
    "        dicB[c] = 0\n",
    "    dicB[c] += 1\n",
    "\n",
    "if dicA == dicB:\n",
    "    print(\"YES\")\n",
    "else:\n",
    "    print(\"NO\")"
   ],
   "metadata": {
    "collapsed": false,
    "ExecuteTime": {
     "start_time": "2023-04-06T19:56:40.812712Z",
     "end_time": "2023-04-06T19:56:46.106233Z"
    }
   }
  },
  {
   "cell_type": "code",
   "execution_count": 12,
   "outputs": [
    {
     "name": "stdout",
     "output_type": "stream",
     "text": [
      "0 1 2 3 4 \n",
      "5 6 7 8 9 \n",
      "10 11 12 13 14 \n",
      "15 16 17 18 19 \n",
      "20 21 22 23 24 \n"
     ]
    }
   ],
   "source": [
    "for i in range(25):\n",
    "    print(i, end=' ')\n",
    "    if i % 5 == 4:\n",
    "        print()"
   ],
   "metadata": {
    "collapsed": false,
    "ExecuteTime": {
     "start_time": "2023-04-06T19:57:59.517201Z",
     "end_time": "2023-04-06T19:57:59.554770Z"
    }
   }
  },
  {
   "cell_type": "code",
   "execution_count": 16,
   "outputs": [
    {
     "name": "stdout",
     "output_type": "stream",
     "text": [
      "주급은 420000.0\n"
     ]
    }
   ],
   "source": [
    "def weeklyPay(rate, hour):\n",
    "    overtime = max(0, hour - 30)\n",
    "    return 1.5 * rate * overtime + rate * (hour - overtime)\n",
    "\n",
    "rate = int(input(\"시급 입력: \"))\n",
    "hour = int(input(\"근무 시간: \"))\n",
    "print(\"주급은 {}\".format(weeklyPay(rate, hour)))"
   ],
   "metadata": {
    "collapsed": false,
    "ExecuteTime": {
     "start_time": "2023-04-06T20:10:14.232547Z",
     "end_time": "2023-04-06T20:10:19.600609Z"
    }
   }
  },
  {
   "cell_type": "code",
   "execution_count": 15,
   "outputs": [
    {
     "name": "stdout",
     "output_type": "stream",
     "text": [
      "공약수: 12\n"
     ]
    }
   ],
   "source": [
    "def gcd(a, b):\n",
    "    if b == 0:\n",
    "        return a\n",
    "    else:\n",
    "        return gcd(b, a % b)\n",
    "\n",
    "a = int(input(\"첫 번째 정수: \"))\n",
    "b = int(input(\"두 번째 정수: \"))\n",
    "print(\"공약수: {}\".format(gcd(a, b)))"
   ],
   "metadata": {
    "collapsed": false,
    "ExecuteTime": {
     "start_time": "2023-04-06T20:02:36.862488Z",
     "end_time": "2023-04-06T20:02:39.495116Z"
    }
   }
  },
  {
   "cell_type": "code",
   "execution_count": 24,
   "outputs": [
    {
     "name": "stdout",
     "output_type": "stream",
     "text": [
      "2\n",
      "3\n",
      "5\n",
      "7\n",
      "11\n",
      "13\n",
      "17\n",
      "19\n",
      "23\n",
      "29\n",
      "31\n",
      "37\n",
      "41\n",
      "43\n",
      "47\n",
      "53\n",
      "59\n",
      "61\n",
      "67\n",
      "71\n",
      "73\n",
      "79\n",
      "83\n",
      "89\n",
      "97\n"
     ]
    }
   ],
   "source": [
    "%reset\n",
    "\n",
    "def testPrime(n):\n",
    "    i = 2\n",
    "    while i*i <= n:\n",
    "        if n % i == 0:\n",
    "            return False\n",
    "        i += 1\n",
    "    return True\n",
    "\n",
    "for i in range(2, 100 + 1):\n",
    "    if testPrime(i):\n",
    "        print(i)"
   ],
   "metadata": {
    "collapsed": false,
    "ExecuteTime": {
     "start_time": "2023-04-06T20:16:31.837282Z",
     "end_time": "2023-04-06T20:16:33.465544Z"
    }
   }
  },
  {
   "cell_type": "code",
   "execution_count": 23,
   "outputs": [
    {
     "name": "stdout",
     "output_type": "stream",
     "text": [
      "15\n",
      "120\n"
     ]
    }
   ],
   "source": [
    "%reset\n",
    "\n",
    "def add_mul(choice, *args):\n",
    "    if choice == \"add\":\n",
    "        result = sum(args)\n",
    "    elif choice == \"mul\":\n",
    "        result = 1\n",
    "        for e in args:\n",
    "            result *= e\n",
    "    return result\n",
    "\n",
    "print(add_mul('add', 1, 2, 3, 4, 5))\n",
    "print(add_mul('mul', 1, 2, 3, 4, 5))"
   ],
   "metadata": {
    "collapsed": false,
    "ExecuteTime": {
     "start_time": "2023-04-06T20:16:15.493729Z",
     "end_time": "2023-04-06T20:16:18.793275Z"
    }
   }
  },
  {
   "cell_type": "code",
   "execution_count": 35,
   "outputs": [
    {
     "name": "stdout",
     "output_type": "stream",
     "text": [
      "입력한 값은 숫자가 아닙니다.\n"
     ]
    }
   ],
   "source": [
    "%reset\n",
    "\n",
    "num = input()\n",
    "digits = []\n",
    "valid = True\n",
    "\n",
    "for c in num:\n",
    "    if not c.isdigit():\n",
    "        valid = False\n",
    "        print(\"입력한 값은 숫자가 아닙니다.\")\n",
    "        break\n",
    "\n",
    "if valid:\n",
    "    num = int(num)\n",
    "    while num != 0:\n",
    "        digits.insert(0, num % 1000)\n",
    "        num //= 1000\n",
    "\n",
    "    ans = ''\n",
    "    for e in digits:\n",
    "        ans += \"{},\".format(e)\n",
    "    print(ans[:-1])"
   ],
   "metadata": {
    "collapsed": false,
    "ExecuteTime": {
     "start_time": "2023-04-06T20:33:54.120729Z",
     "end_time": "2023-04-06T20:33:55.907742Z"
    }
   }
  },
  {
   "cell_type": "code",
   "execution_count": 39,
   "outputs": [
    {
     "name": "stdout",
     "output_type": "stream",
     "text": [
      "test\n",
      "example\n",
      "hello\n",
      "nice\n"
     ]
    }
   ],
   "source": [
    "%reset\n",
    "\n",
    "file_list = ['test.py', 'example.ppt', 'hello.exe', 'nice.hwp']\n",
    "\n",
    "for name in file_list:\n",
    "    print(name.split('.')[0])"
   ],
   "metadata": {
    "collapsed": false,
    "ExecuteTime": {
     "start_time": "2023-04-06T20:37:14.038908Z",
     "end_time": "2023-04-06T20:37:16.327059Z"
    }
   }
  },
  {
   "cell_type": "code",
   "execution_count": 41,
   "outputs": [
    {
     "name": "stdout",
     "output_type": "stream",
     "text": [
      "['pro.gif', 'q1.jpg', 'melon.gif', 'gsa.jpg']\n"
     ]
    }
   ],
   "source": [
    "%reset\n",
    "\n",
    "files = ['pro.gif', 'tt.png', 'q1.jpg', 'melon.gif', 'q2.hwp', 'j3.ppt', 'table.xslx', 'spc.docx', 'gsa.jpg']\n",
    "print(list(filter(lambda name: name.split('.')[1] in ['jpg', 'gif'], files)))"
   ],
   "metadata": {
    "collapsed": false,
    "ExecuteTime": {
     "start_time": "2023-04-06T20:37:26.212897Z",
     "end_time": "2023-04-06T20:37:27.273900Z"
    }
   }
  },
  {
   "cell_type": "code",
   "execution_count": 43,
   "outputs": [
    {
     "name": "stdout",
     "output_type": "stream",
     "text": [
      "11: icekitkat\n",
      "12: cheesecake\n",
      "13: greentea\n",
      "14: mintchoco\n"
     ]
    }
   ],
   "source": [
    "%reset\n",
    "\n",
    "flavor_list = ['icekitkat', 'cheesecake', 'greentea', 'mintchoco']\n",
    "for i, flavor in enumerate(flavor_list):\n",
    "    print(\"{}: {}\".format(i + 11, flavor))"
   ],
   "metadata": {
    "collapsed": false,
    "ExecuteTime": {
     "start_time": "2023-04-06T20:39:03.154416Z",
     "end_time": "2023-04-06T20:39:04.411116Z"
    }
   }
  },
  {
   "cell_type": "code",
   "execution_count": 55,
   "outputs": [],
   "source": [
    "with open(\"sentence.txt\", 'w') as file:\n",
    "    file.write('sabcd abcd asbds ananndnd absbdbdb nanannwn mwwkwkkw oeoiiq nnnfns nsnsnn')"
   ],
   "metadata": {
    "collapsed": false,
    "ExecuteTime": {
     "start_time": "2023-04-06T20:45:10.623650Z",
     "end_time": "2023-04-06T20:45:10.634943Z"
    }
   }
  },
  {
   "cell_type": "code",
   "execution_count": 58,
   "outputs": [
    {
     "name": "stdout",
     "output_type": "stream",
     "text": [
      "sabcd\n",
      "asbds\n",
      "absbdbdb\n",
      "nnnfns\n",
      "nsnsnn\n"
     ]
    }
   ],
   "source": [
    "with open(\"sentence.txt\") as file:\n",
    "    for line in file:\n",
    "        words = [e for e in line.split(' ') if 's' in e]\n",
    "        for e in words:\n",
    "            print(e)"
   ],
   "metadata": {
    "collapsed": false,
    "ExecuteTime": {
     "start_time": "2023-04-06T20:49:00.030918Z",
     "end_time": "2023-04-06T20:49:00.035744Z"
    }
   }
  },
  {
   "cell_type": "code",
   "execution_count": 60,
   "outputs": [
    {
     "name": "stdout",
     "output_type": "stream",
     "text": [
      "uopckooedhsajdqyri\n",
      "wnclj\n",
      "oyxwbirfxvldxie\n",
      "dqmhxmddnbekmifdbu\n",
      "boifag\n",
      "kpvijvlanapuuqvsmapygcsw\n",
      "hxtawmhihd\n",
      "hwwmeljiidgndcuawbfvc\n",
      "bdmixysbrgcqoupotqxmiwinv\n",
      "qmvnmjpwyxkudabwkqlb\n",
      "8\n"
     ]
    }
   ],
   "source": [
    "%reset\n",
    "import random\n",
    "\n",
    "with open(\"words.txt\", 'w') as file:\n",
    "    for i in range(10):\n",
    "        word = ''\n",
    "        for _ in range(random.randint(5, 25)):\n",
    "            word += chr(random.randrange(ord('a'), ord('z')))\n",
    "        file.write(\"{}\\n\".format(word))\n",
    "\n",
    "count = 0\n",
    "with open(\"words.txt\") as file:\n",
    "    for w in file:\n",
    "        if len(w) >= 10:\n",
    "            count += 1\n",
    "\n",
    "print(count)"
   ],
   "metadata": {
    "collapsed": false,
    "ExecuteTime": {
     "start_time": "2023-04-06T20:54:44.175615Z",
     "end_time": "2023-04-06T20:54:45.322070Z"
    }
   }
  },
  {
   "cell_type": "code",
   "execution_count": null,
   "outputs": [],
   "source": [
    "from pprint import pprint\n",
    "import sys\n",
    "\n",
    "pprint(sys.stdin)"
   ],
   "metadata": {
    "collapsed": false,
    "pycharm": {
     "is_executing": true
    }
   }
  },
  {
   "cell_type": "code",
   "execution_count": null,
   "outputs": [],
   "source": [],
   "metadata": {
    "collapsed": false
   }
  }
 ],
 "metadata": {
  "kernelspec": {
   "display_name": "Python 3",
   "language": "python",
   "name": "python3"
  },
  "language_info": {
   "codemirror_mode": {
    "name": "ipython",
    "version": 3
   },
   "file_extension": ".py",
   "mimetype": "text/x-python",
   "name": "python",
   "nbconvert_exporter": "python",
   "pygments_lexer": "ipython3",
   "version": "3.11.2"
  }
 },
 "nbformat": 4,
 "nbformat_minor": 0
}
