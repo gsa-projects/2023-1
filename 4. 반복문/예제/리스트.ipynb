{
 "cells": [
  {
   "cell_type": "markdown",
   "source": [
    "### List: 순서가 있는 데이터의 집합"
   ],
   "metadata": {
    "collapsed": false
   }
  },
  {
   "cell_type": "code",
   "execution_count": 4,
   "outputs": [],
   "source": [
    "list_a = [1, 2, 3]  # 이렇게 선언\n",
    "list_b = [] # 빈 배열은 이렇게 선언"
   ],
   "metadata": {
    "collapsed": false
   }
  },
  {
   "cell_type": "code",
   "execution_count": null,
   "outputs": [],
   "source": [
    "list_c = [273, 32, 103, \"문자열\", True, False] # 다양한 데이터 타입을 함께 사용 가능"
   ],
   "metadata": {
    "collapsed": false
   }
  },
  {
   "cell_type": "code",
   "execution_count": null,
   "outputs": [],
   "source": [
    "list_d = [[1, 2, 3], [4, 5, 6], [7, 8, 9]]  # 2차원 리스트 선언"
   ],
   "metadata": {
    "collapsed": false
   }
  },
  {
   "cell_type": "code",
   "execution_count": null,
   "outputs": [],
   "source": [
    "list_e = [  # 톱니식 중첩 리스트 선언\n",
    "    [1, 2],\n",
    "    [3, 4, 5],\n",
    "    [6, 7, 8, 9]\n",
    "]"
   ],
   "metadata": {
    "collapsed": false
   }
  },
  {
   "cell_type": "markdown",
   "source": [
    "### List 연산\n",
    "- `[i]` : 리스트의 앞에서 `i`번째 (0부터) 인덱스 참조\n",
    "- `[-i]` : 리스트의 뒤에서 `i`번째 (-1부터) 인덱스 참조\n",
    "- `[a:b]` : 리스트의 `[a, b)` 범위 자르기\n",
    "- `+` : 리스트 연결\n",
    "- `*` : 리스트 반복\n",
    "- `in` : 리스트 내부에 특정 값이 있는지 확인\n",
    "- `not in` : 리스트 내부에 특정 값이 없는지 확인"
   ],
   "metadata": {
    "collapsed": false
   }
  },
  {
   "cell_type": "code",
   "execution_count": 5,
   "outputs": [
    {
     "data": {
      "text/plain": "['변경', 32, 103, '문자열', True, False]"
     },
     "execution_count": 5,
     "metadata": {},
     "output_type": "execute_result"
    }
   ],
   "source": [
    "list_a = [273, 32, 103, \"문자열\", True, False]\n",
    "list_a[0] = \"변경\"\n",
    "list_a"
   ],
   "metadata": {
    "collapsed": false
   }
  },
  {
   "cell_type": "code",
   "execution_count": 6,
   "outputs": [
    {
     "data": {
      "text/plain": "['변경', 32, 99, '문자열', True, False]"
     },
     "execution_count": 6,
     "metadata": {},
     "output_type": "execute_result"
    }
   ],
   "source": [
    "list_a[-4] = 99     # 음수 인덱스는 가급적 참조할 때만 사용하자\n",
    "list_a"
   ],
   "metadata": {
    "collapsed": false
   }
  },
  {
   "cell_type": "code",
   "execution_count": 7,
   "outputs": [
    {
     "name": "stdout",
     "output_type": "stream",
     "text": [
      "list_a = [1, 2, 3]\n",
      "list_b = [4, 5, 6]\n"
     ]
    }
   ],
   "source": [
    "list_a = [1, 2, 3]\n",
    "list_b = [4, 5, 6]\n",
    "\n",
    "print(\"list_a =\", list_a)\n",
    "print(\"list_b =\", list_b)"
   ],
   "metadata": {
    "collapsed": false
   }
  },
  {
   "cell_type": "code",
   "execution_count": 8,
   "outputs": [
    {
     "name": "stdout",
     "output_type": "stream",
     "text": [
      "list_a + list_b = [1, 2, 3, 4, 5, 6]\n",
      "list_a * 3 = [1, 2, 3, 1, 2, 3, 1, 2, 3]\n"
     ]
    }
   ],
   "source": [
    "list_a = [1, 2, 3]\n",
    "list_b = [4, 5, 6]\n",
    "\n",
    "print(\"list_a + list_b =\", list_a + list_b)\n",
    "print(\"list_a * 3 =\", list_a * 3)"
   ],
   "metadata": {
    "collapsed": false
   }
  },
  {
   "cell_type": "markdown",
   "source": [
    "### List 함수\n",
    "- `list.append(element) -> None` : `list`뒤에 `element` 추가\n",
    "- `list.insert(index: int, element) -> None` : `list[index]`가 `element`가 되도록 삽입\n",
    "- `list.extend(other: list) -> None` : `list`에 `other` 연결\n",
    "- `list.pop(index: int) -> Type[list[index]]` : `list[index]` 제거\n",
    "- `list.remove(element)` : `list`에서 `element` 제거 (첫 번째로 나오는 것만)\n",
    "- `clear()` : 리스트 요소 모두 제거\n",
    "\n",
    "* `del`은 리스트 요소를 제거하는 함수가 아니라 리스트 요소를 삭제하는 명령어이다.\n",
    "* `del`은 리스트 요소를 삭제할 때 인덱스를 사용하거나 범위인덱스을 사용할 수 있다."
   ],
   "metadata": {
    "collapsed": false
   }
  },
  {
   "cell_type": "code",
   "execution_count": 9,
   "outputs": [
    {
     "data": {
      "text/plain": "[1, 2, 3, 4, 5]"
     },
     "execution_count": 9,
     "metadata": {},
     "output_type": "execute_result"
    }
   ],
   "source": [
    "list_a = [1, 2, 3]\n",
    "\n",
    "# append\n",
    "list_a.append(4)\n",
    "list_a.append(5)\n",
    "list_a"
   ],
   "metadata": {
    "collapsed": false
   }
  },
  {
   "cell_type": "code",
   "execution_count": 10,
   "outputs": [
    {
     "data": {
      "text/plain": "[10, 1, 2, 3]"
     },
     "execution_count": 10,
     "metadata": {},
     "output_type": "execute_result"
    }
   ],
   "source": [
    "list_a = [1, 2, 3]\n",
    "\n",
    "# insert_1\n",
    "list_a.insert(0, 10)\n",
    "list_a"
   ],
   "metadata": {
    "collapsed": false
   }
  },
  {
   "cell_type": "code",
   "execution_count": 11,
   "outputs": [
    {
     "data": {
      "text/plain": "[1, 20, 2, 3]"
     },
     "execution_count": 11,
     "metadata": {},
     "output_type": "execute_result"
    }
   ],
   "source": [
    "list_a = [1, 2, 3]\n",
    "\n",
    "# insert_2 (되는데?)\n",
    "list_a.insert(-2, 20)\n",
    "list_a"
   ],
   "metadata": {
    "collapsed": false
   }
  },
  {
   "cell_type": "code",
   "execution_count": 12,
   "outputs": [
    {
     "data": {
      "text/plain": "[1, 2, 3, 4, 5, 6]"
     },
     "execution_count": 12,
     "metadata": {},
     "output_type": "execute_result"
    }
   ],
   "source": [
    "list_a = [1, 2, 3]\n",
    "list_b = [4, 5, 6]\n",
    "\n",
    "# extend\n",
    "list_a.extend(list_b)\n",
    "list_a"
   ],
   "metadata": {
    "collapsed": false
   }
  },
  {
   "cell_type": "code",
   "execution_count": 13,
   "outputs": [
    {
     "data": {
      "text/plain": "[0, 1, 3, 4, 5]"
     },
     "execution_count": 13,
     "metadata": {},
     "output_type": "execute_result"
    }
   ],
   "source": [
    "list_a = [0, 1, 2, 3, 4, 5]\n",
    "\n",
    "# pop()\n",
    "list_a.pop(2)\n",
    "list_a"
   ],
   "metadata": {
    "collapsed": false
   }
  },
  {
   "cell_type": "code",
   "execution_count": 14,
   "outputs": [
    {
     "data": {
      "text/plain": "[0, 2, 3, 4, 5]"
     },
     "execution_count": 14,
     "metadata": {},
     "output_type": "execute_result"
    }
   ],
   "source": [
    "list_a = [0, 1, 2, 3, 4, 5]\n",
    "\n",
    "# del\n",
    "del list_a[1]\n",
    "list_a"
   ],
   "metadata": {
    "collapsed": false
   }
  },
  {
   "cell_type": "code",
   "execution_count": 15,
   "outputs": [
    {
     "data": {
      "text/plain": "[0, 1, 2, 6]"
     },
     "execution_count": 15,
     "metadata": {},
     "output_type": "execute_result"
    }
   ],
   "source": [
    "list_b = [0, 1, 2, 3, 4, 5, 6]\n",
    "\n",
    "del list_b[3:6]\n",
    "list_b"
   ],
   "metadata": {
    "collapsed": false
   }
  },
  {
   "cell_type": "code",
   "execution_count": 16,
   "outputs": [
    {
     "data": {
      "text/plain": "[3, 4, 5, 6]"
     },
     "execution_count": 16,
     "metadata": {},
     "output_type": "execute_result"
    }
   ],
   "source": [
    "list_c = [0, 1, 2, 3, 4, 5, 6]\n",
    "\n",
    "del list_c[:3]\n",
    "list_c"
   ],
   "metadata": {
    "collapsed": false
   }
  },
  {
   "cell_type": "code",
   "execution_count": 17,
   "outputs": [
    {
     "data": {
      "text/plain": "[1, 1, 2]"
     },
     "execution_count": 17,
     "metadata": {},
     "output_type": "execute_result"
    }
   ],
   "source": [
    "list_c = [1, 2, 1, 2]\n",
    "\n",
    "list_c.remove(2)\n",
    "list_c"
   ],
   "metadata": {
    "collapsed": false
   }
  },
  {
   "cell_type": "code",
   "execution_count": 18,
   "outputs": [
    {
     "data": {
      "text/plain": "[]"
     },
     "execution_count": 18,
     "metadata": {},
     "output_type": "execute_result"
    }
   ],
   "source": [
    "list_d = [0, 1, 2, 3, 4, 5]\n",
    "\n",
    "list_d.clear()\n",
    "list_d"
   ],
   "metadata": {
    "collapsed": false
   }
  },
  {
   "cell_type": "markdown",
   "source": [
    "### List 함수 예제"
   ],
   "metadata": {
    "collapsed": false
   }
  },
  {
   "cell_type": "code",
   "execution_count": 26,
   "outputs": [
    {
     "data": {
      "text/plain": "[0, 1, 2, 3, 0, 1, 2, 3]"
     },
     "execution_count": 26,
     "metadata": {},
     "output_type": "execute_result"
    }
   ],
   "source": [
    "list_a = [0, 1, 2, 3]\n",
    "list_a.extend(list_a)\n",
    "list_a  # expected: [0, 1, 2, 3, 0, 1, 2, 3]"
   ],
   "metadata": {
    "collapsed": false
   }
  },
  {
   "cell_type": "code",
   "execution_count": 20,
   "outputs": [
    {
     "data": {
      "text/plain": "[0, 1, 2, 3, 4, 5, 6, 7, 10]"
     },
     "execution_count": 20,
     "metadata": {},
     "output_type": "execute_result"
    }
   ],
   "source": [
    "list_a = [0, 1, 2, 3, 4, 5, 6, 7]\n",
    "list_a.append(10)\n",
    "list_a  # expected: [0, 1, 2, 3, 4, 5, 6, 7, 10]"
   ],
   "metadata": {
    "collapsed": false
   }
  },
  {
   "cell_type": "code",
   "execution_count": 21,
   "outputs": [
    {
     "data": {
      "text/plain": "[0, 1, 2, 0, 3, 4, 5, 6, 7]"
     },
     "execution_count": 21,
     "metadata": {},
     "output_type": "execute_result"
    }
   ],
   "source": [
    "list_a = [0, 1, 2, 3, 4, 5, 6, 7]\n",
    "list_a.insert(3, 0)\n",
    "list_a  # expected: [0, 1, 2, 0, 3, 4, 5, 6, 7]"
   ],
   "metadata": {
    "collapsed": false
   }
  },
  {
   "cell_type": "code",
   "execution_count": 22,
   "outputs": [
    {
     "data": {
      "text/plain": "[0, 1, 2, 4, 5, 6, 7]"
     },
     "execution_count": 22,
     "metadata": {},
     "output_type": "execute_result"
    }
   ],
   "source": [
    "list_a = [0, 1, 2, 3, 4, 5, 6, 7]\n",
    "list_a.remove(3)\n",
    "list_a  # expected: [0, 1, 2, 4, 5, 6, 7]"
   ],
   "metadata": {
    "collapsed": false
   }
  },
  {
   "cell_type": "code",
   "execution_count": 23,
   "outputs": [
    {
     "data": {
      "text/plain": "[0, 1, 3, 4, 5, 6, 7]"
     },
     "execution_count": 23,
     "metadata": {},
     "output_type": "execute_result"
    }
   ],
   "source": [
    "list_a = [0, 1, 2, 3, 4, 5, 6, 7]\n",
    "list_a.pop(2)\n",
    "list_a  # expected: [0, 1, 3, 4, 5, 6, 7]"
   ],
   "metadata": {
    "collapsed": false
   }
  },
  {
   "cell_type": "code",
   "execution_count": 24,
   "outputs": [
    {
     "data": {
      "text/plain": "[]"
     },
     "execution_count": 24,
     "metadata": {},
     "output_type": "execute_result"
    }
   ],
   "source": [
    "list_a = [0, 1, 2, 3, 4, 5, 6, 7]\n",
    "list_a.clear()\n",
    "list_a  # expected: []"
   ],
   "metadata": {
    "collapsed": false
   }
  }
 ],
 "metadata": {
  "kernelspec": {
   "display_name": "Python 3",
   "language": "python",
   "name": "python3"
  },
  "language_info": {
   "codemirror_mode": {
    "name": "ipython",
    "version": 2
   },
   "file_extension": ".py",
   "mimetype": "text/x-python",
   "name": "python",
   "nbconvert_exporter": "python",
   "pygments_lexer": "ipython2",
   "version": "2.7.6"
  }
 },
 "nbformat": 4,
 "nbformat_minor": 0
}
