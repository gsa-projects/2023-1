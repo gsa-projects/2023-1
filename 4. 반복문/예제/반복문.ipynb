{
 "cells": [
  {
   "cell_type": "markdown",
   "source": [
    "## for, while: 반복문"
   ],
   "metadata": {
    "collapsed": false
   }
  },
  {
   "cell_type": "markdown",
   "source": [
    "iterable 한 객체는 for 문을 사용할 수 있다."
   ],
   "metadata": {
    "collapsed": false
   }
  },
  {
   "cell_type": "code",
   "execution_count": 8,
   "outputs": [
    {
     "name": "stdout",
     "output_type": "stream",
     "text": [
      "1 2 3 4 5 \n",
      "1 2 3 4 5 \n",
      "1 2 3 4 5 \n",
      "a b c d e \n",
      "1 2 3 4 5 \n"
     ]
    }
   ],
   "source": [
    "list_a = [1, 2, 3, 4, 5]\n",
    "tuple_a = (1, 2, 3, 4, 5)\n",
    "set_a = {1, 2, 3, 4, 5}\n",
    "dict_a = {\"a\": 1, \"b\": 2, \"c\": 3, \"d\": 4, \"e\": 5}\n",
    "str_a = \"12345\"\n",
    "\n",
    "for e in list_a:\n",
    "    print(e, end=\" \")\n",
    "print()\n",
    "\n",
    "for e in tuple_a:\n",
    "    print(e, end=\" \")\n",
    "print()\n",
    "\n",
    "for e in set_a:\n",
    "    print(e, end=\" \")\n",
    "print()\n",
    "\n",
    "for k in dict_a:\n",
    "    print(k, end=\" \")\n",
    "print()\n",
    "\n",
    "for e in str_a:\n",
    "    print(e, end=\" \")\n",
    "print()"
   ],
   "metadata": {
    "collapsed": false
   }
  },
  {
   "cell_type": "markdown",
   "source": [
    "`range(start=0, end, step=1)` 함수는 iterable 한 객체를 생성한다.\n",
    "- `step`씩 증가하는 [`start`, `end`) 범위의 정수를 생성한다."
   ],
   "metadata": {
    "collapsed": false
   }
  },
  {
   "cell_type": "code",
   "execution_count": 12,
   "metadata": {
    "collapsed": true
   },
   "outputs": [
    {
     "name": "stdout",
     "output_type": "stream",
     "text": [
      "0 1 2 3 4 5 6 7 8 9\n",
      "2 3 4 5 6 7 8 9\n",
      "2 5 8\n"
     ]
    }
   ],
   "source": [
    "print(*range(10))\n",
    "print(*range(2, 10))\n",
    "print(*range(2, 10, 3))"
   ]
  }
 ],
 "metadata": {
  "kernelspec": {
   "display_name": "Python 3",
   "language": "python",
   "name": "python3"
  },
  "language_info": {
   "codemirror_mode": {
    "name": "ipython",
    "version": 2
   },
   "file_extension": ".py",
   "mimetype": "text/x-python",
   "name": "python",
   "nbconvert_exporter": "python",
   "pygments_lexer": "ipython2",
   "version": "2.7.6"
  }
 },
 "nbformat": 4,
 "nbformat_minor": 0
}
