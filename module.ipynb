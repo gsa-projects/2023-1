{
 "cells": [
  {
   "attachments": {},
   "cell_type": "markdown",
   "metadata": {},
   "source": [
    "모듈 불러오기  \n",
    "- `import [module-name]`  \n",
    "- `import [module-name] as [aliase]`\n",
    "- `from [module-name] import [exports...]`"
   ]
  },
  {
   "cell_type": "code",
   "execution_count": 7,
   "metadata": {},
   "outputs": [],
   "source": [
    "import math\n",
    "import math as m\n",
    "from math import *"
   ]
  },
  {
   "cell_type": "code",
   "execution_count": 5,
   "metadata": {},
   "outputs": [
    {
     "name": "stdout",
     "output_type": "stream",
     "text": [
      "0.8414709848078965\n",
      "0.5403023058681398\n",
      "1.5574077246549023\n"
     ]
    }
   ],
   "source": [
    "%reset\n",
    "import math\n",
    "\n",
    "print(math.sin(1))\n",
    "print(math.cos(1))\n",
    "print(math.tan(1))"
   ]
  },
  {
   "cell_type": "code",
   "execution_count": 8,
   "metadata": {},
   "outputs": [
    {
     "name": "stdout",
     "output_type": "stream",
     "text": [
      "0.8414709848078965\n",
      "0.5403023058681398\n",
      "1.5574077246549023\n"
     ]
    }
   ],
   "source": [
    "%reset\n",
    "import math as m\n",
    "\n",
    "print(m.sin(1))\n",
    "print(m.cos(1))\n",
    "print(m.tan(1))"
   ]
  },
  {
   "cell_type": "code",
   "execution_count": 6,
   "metadata": {},
   "outputs": [
    {
     "name": "stdout",
     "output_type": "stream",
     "text": [
      "0.8414709848078965\n",
      "0.5403023058681398\n",
      "1.5574077246549023\n"
     ]
    }
   ],
   "source": [
    "%reset\n",
    "from math import *\n",
    "\n",
    "print(sin(1))\n",
    "print(cos(1))\n",
    "print(tan(1))"
   ]
  },
  {
   "cell_type": "code",
   "execution_count": 9,
   "metadata": {},
   "outputs": [],
   "source": [
    "%reset"
   ]
  },
  {
   "attachments": {},
   "cell_type": "markdown",
   "metadata": {},
   "source": [
    "내장 module 종류\n",
    "- `math`\n",
    "- `random`\n",
    "- `os`\n",
    "- `time`\n",
    "- `urllib`\n",
    "- `tkinter`"
   ]
  },
  {
   "cell_type": "code",
   "execution_count": 11,
   "metadata": {},
   "outputs": [
    {
     "name": "stdout",
     "output_type": "stream",
     "text": [
      "# random 모듈\n",
      "\n",
      "# random() -> float(0.0 <= x < 1.0)\n",
      "[0.0, 1.0) 사이의 무작위 실수 값: 0.6747151040276878\n",
      "\n",
      "# uniform(min, max) -> float(min <= x < max)\n",
      "[min(10), max(20)) 사이의 무작위 실수 값: 19.401636740698518\n",
      "\n",
      "# randrange(max) -> int(0 <= x < max)\n",
      "[0, max(10)) 사이의 무작위 정수 값: 0\n",
      "\n",
      "# randrange(min, max) -> int(min <= x < max)\n",
      "[min(10), max(20)) 사이의 무작위 정수 값: 18\n",
      "\n",
      "# randrange(min, max) -> int(min <= x < max)\n",
      "[min(10), max(20)) 사이의 무작위 정수 값: 19\n",
      "\n",
      "# choice(iterable) -> item\n",
      "임의로 선택된 한 문자: j\n",
      "임의로 선택된 한 문자열: 보\n",
      "\n",
      "# sample(iterable, k) -> list\n",
      "임의로 선택된 한 문자열: ['i', 'g', 'b']\n",
      "임의로 선택된 한 문자열: ['바위', '보']\n"
     ]
    }
   ],
   "source": [
    "from random import random, uniform, randrange, randint, choice, sample\n",
    "\n",
    "print(\"# random 모듈\")\n",
    "\n",
    "print(\"\\n# random() -> float(0.0 <= x < 1.0)\")\n",
    "print(\"[0.0, 1.0) 사이의 무작위 실수 값:\", random())\n",
    "\n",
    "print(\"\\n# uniform(min, max) -> float(min <= x < max)\")\n",
    "print(f\"[min({10}), max({20})) 사이의 무작위 실수 값:\", uniform(10, 20))\n",
    "\n",
    "print(\"\\n# randrange(max) -> int(0 <= x < max)\")\n",
    "print(f\"[0, max({10})) 사이의 무작위 정수 값:\", randrange(10))\n",
    "\n",
    "print(\"\\n# randrange(min, max) -> int(min <= x < max)\")\n",
    "print(f\"[min({10}), max({20})) 사이의 무작위 정수 값:\", randrange(10, 20))\n",
    "\n",
    "print(\"\\n# randrange(min, max) -> int(min <= x < max)\")\n",
    "print(f\"[min({10}), max({20})) 사이의 무작위 정수 값:\", randint(10, 20))\n",
    "\n",
    "print(\"\\n# choice(iterable) -> item\")\n",
    "print(\"임의로 선택된 한 문자:\", choice(\"abcdefghij\"))\n",
    "print(\"임의로 선택된 한 문자열:\", choice([\"가위\", \"바위\", \"보\"]))\n",
    "\n",
    "print(\"\\n# sample(iterable, k) -> list\")\n",
    "print(\"임의로 선택된 한 문자열:\", sample(\"abcdefghij\", 3))\n",
    "print(\"임의로 선택된 한 문자열:\", sample([\"가위\", \"바위\", \"보\"], 2))"
   ]
  },
  {
   "cell_type": "code",
   "execution_count": 13,
   "metadata": {},
   "outputs": [
    {
     "name": "stdout",
     "output_type": "stream",
     "text": [
      "# OS 모듈\n",
      "\n",
      "# 기본 정보\n",
      "현재 운영체제: nt\n",
      "현재 폴더: c:\\Users\\rhseung\\Coding\\Repositories\\gsa-projects\\3rd-Semester\n",
      "현재 폴더 내부의 요소: ['.git', '.idea', 'exception.ipynb', 'module.ipynb', 'set.ipynb', '딴짓', '중간고사']\n",
      "\n",
      "# 폴더를 만들고 제거\n",
      "\n",
      "# 파일을 생성하고 + 파일 이름을 변경\n",
      "\n",
      "# 파일을 제거\n",
      "\n",
      "# 시스템 명령어 실행\n"
     ]
    },
    {
     "data": {
      "text/plain": [
       "0"
      ]
     },
     "execution_count": 13,
     "metadata": {},
     "output_type": "execute_result"
    }
   ],
   "source": [
    "import os\n",
    "\n",
    "print(\"# OS 모듈\")\n",
    "\n",
    "print(\"\\n# 기본 정보\")\n",
    "print(\"현재 운영체제:\", os.name)\n",
    "print(\"현재 폴더:\", os.getcwd())\n",
    "print(\"현재 폴더 내부의 요소:\", os.listdir())\n",
    "\n",
    "print(\"\\n# 폴더를 만들고 제거\")\n",
    "os.mkdir(\"hello\")\n",
    "os.rmdir(\"hello\")\n",
    "\n",
    "print(\"\\n# 파일을 생성하고 + 파일 이름을 변경\")\n",
    "with open(\"original.txt\", \"w\") as file:\n",
    "    file.write(\"hello\")\n",
    "os.rename(\"original.txt\", \"new.txt\")\n",
    "\n",
    "print(\"\\n# 파일을 제거\")\n",
    "os.remove(\"new.txt\")\n",
    "# os.unlink(\"new.txt\")    # 같은 기능의 함수\n",
    "\n",
    "print(\"\\n# 시스템 명령어 실행\")\n",
    "os.system(\"dir\")"
   ]
  },
  {
   "attachments": {},
   "cell_type": "markdown",
   "metadata": {},
   "source": [
    "예제. 디렉토리인지 파일인지 분류하기"
   ]
  },
  {
   "cell_type": "code",
   "execution_count": 14,
   "metadata": {},
   "outputs": [
    {
     "name": "stdout",
     "output_type": "stream",
     "text": [
      "현재 폴더의 파일/폴더: ['.git', '.idea', 'exception.ipynb', 'module.ipynb', 'set.ipynb', '딴짓', '중간고사']\n",
      "\n",
      ".git <- 폴더\n",
      ".idea <- 폴더\n",
      "exception.ipynb <- 파일\n",
      "module.ipynb <- 파일\n",
      "set.ipynb <- 파일\n",
      "딴짓 <- 폴더\n",
      "중간고사 <- 폴더\n"
     ]
    }
   ],
   "source": [
    "import os\n",
    "\n",
    "things = os.listdir('.')\n",
    "print('현재 폴더의 파일/폴더:', things)\n",
    "print()\n",
    "\n",
    "for path in things:\n",
    "    if os.path.isdir(path):\n",
    "        print(f'{path} <- 폴더')\n",
    "    else:\n",
    "        print(f'{path} <- 파일')"
   ]
  },
  {
   "attachments": {},
   "cell_type": "markdown",
   "metadata": {},
   "source": [
    "예제. 디렉토리 안의 모든 파일 가져오기"
   ]
  },
  {
   "cell_type": "code",
   "execution_count": 15,
   "metadata": {},
   "outputs": [
    {
     "name": "stdout",
     "output_type": "stream",
     "text": [
      "현재 폴더의 파일/폴더: ['.git', '.idea', 'exception.ipynb', 'module.ipynb', 'set.ipynb', '딴짓', '중간고사']\n",
      "\n",
      "COMMIT_EDITMSG <- 파일\n",
      "config <- 파일\n",
      "description <- 파일\n",
      "FETCH_HEAD <- 파일\n",
      "HEAD <- 파일\n",
      "hooks <- 파일\n",
      "index <- 파일\n",
      "info <- 파일\n",
      "logs <- 파일\n",
      "objects <- 파일\n",
      "packed-refs <- 파일\n",
      "refs <- 파일\n",
      ".gitignore <- 파일\n",
      "3rd-Semester.iml <- 파일\n",
      "inspectionProfiles <- 파일\n",
      "misc.xml <- 파일\n",
      "modules.xml <- 파일\n",
      "vcs.xml <- 파일\n",
      "workspace.xml <- 파일\n",
      "exception.ipynb <- 파일\n",
      "module.ipynb <- 파일\n",
      "set.ipynb <- 파일\n",
      "ps_machine <- 파일\n",
      "test.wlnb <- 파일\n",
      ".fleet <- 파일\n",
      ".gitignore <- 파일\n",
      "3rd-Semester.iml <- 파일\n",
      "inspectionProfiles <- 파일\n",
      "misc.xml <- 파일\n",
      "modules.xml <- 파일\n",
      "vcs.xml <- 파일\n",
      "workspace.xml <- 파일\n",
      ".vscode <- 파일\n",
      "1. basic.ipynb <- 파일\n",
      "2. variable, constant.ipynb <- 파일\n",
      "3. input, output.ipynb <- 파일\n",
      "3. 조건문 <- 파일\n",
      "4. str.ipynb <- 파일\n",
      "4. 반복문 <- 파일\n",
      "5. list.ipynb <- 파일\n",
      "5. 딕셔너리 <- 파일\n",
      "6. for, while.ipynb <- 파일\n",
      "7. dictionary.ipynb <- 파일\n",
      "8. function.ipynb <- 파일\n",
      "9. file.ipynb <- 파일\n",
      "info.txt <- 파일\n",
      "main.py <- 파일\n",
      "sentence.txt <- 파일\n",
      "과제 <- 파일\n"
     ]
    }
   ],
   "source": [
    "import os\n",
    "\n",
    "def read_folder(path, depth=0):\n",
    "    things = os.listdir(path)\n",
    "\n",
    "    for path in things:\n",
    "        if os.path.isdir(path):\n",
    "            read_folder(path, depth+1)   # 재귀로 구현하기\n",
    "        else:\n",
    "            print(f'{\"  \" * depth}{path} <- 파일')\n",
    "\n",
    "things = os.listdir('.')\n",
    "print('현재 폴더의 파일/폴더:', things)\n",
    "print()\n",
    "\n",
    "read_folder('.')"
   ]
  },
  {
   "cell_type": "code",
   "execution_count": null,
   "metadata": {},
   "outputs": [],
   "source": []
  }
 ],
 "metadata": {
  "kernelspec": {
   "display_name": "Python 3",
   "language": "python",
   "name": "python3"
  },
  "language_info": {
   "codemirror_mode": {
    "name": "ipython",
    "version": 3
   },
   "file_extension": ".py",
   "mimetype": "text/x-python",
   "name": "python",
   "nbconvert_exporter": "python",
   "pygments_lexer": "ipython3",
   "version": "3.11.3"
  },
  "orig_nbformat": 4
 },
 "nbformat": 4,
 "nbformat_minor": 2
}
