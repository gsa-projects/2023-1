{
 "cells": [
  {
   "attachments": {},
   "cell_type": "markdown",
   "metadata": {},
   "source": [
    "모듈 불러오기  \n",
    "- `import [module-name]`  \n",
    "- `import [module-name] as [aliase]`\n",
    "- `from [module-name] import [exports...]`"
   ]
  },
  {
   "cell_type": "code",
   "execution_count": 7,
   "metadata": {},
   "outputs": [],
   "source": [
    "import math\n",
    "import math as m\n",
    "from math import *"
   ]
  },
  {
   "cell_type": "code",
   "execution_count": 5,
   "metadata": {},
   "outputs": [
    {
     "name": "stdout",
     "output_type": "stream",
     "text": [
      "0.8414709848078965\n",
      "0.5403023058681398\n",
      "1.5574077246549023\n"
     ]
    }
   ],
   "source": [
    "%reset\n",
    "import math\n",
    "\n",
    "print(math.sin(1))\n",
    "print(math.cos(1))\n",
    "print(math.tan(1))"
   ]
  },
  {
   "cell_type": "code",
   "execution_count": 8,
   "metadata": {},
   "outputs": [
    {
     "name": "stdout",
     "output_type": "stream",
     "text": [
      "0.8414709848078965\n",
      "0.5403023058681398\n",
      "1.5574077246549023\n"
     ]
    }
   ],
   "source": [
    "%reset\n",
    "import math as m\n",
    "\n",
    "print(m.sin(1))\n",
    "print(m.cos(1))\n",
    "print(m.tan(1))"
   ]
  },
  {
   "cell_type": "code",
   "execution_count": 6,
   "metadata": {},
   "outputs": [
    {
     "name": "stdout",
     "output_type": "stream",
     "text": [
      "0.8414709848078965\n",
      "0.5403023058681398\n",
      "1.5574077246549023\n"
     ]
    }
   ],
   "source": [
    "%reset\n",
    "from math import *\n",
    "\n",
    "print(sin(1))\n",
    "print(cos(1))\n",
    "print(tan(1))"
   ]
  },
  {
   "cell_type": "code",
   "execution_count": 9,
   "metadata": {},
   "outputs": [],
   "source": [
    "%reset"
   ]
  },
  {
   "attachments": {},
   "cell_type": "markdown",
   "metadata": {},
   "source": [
    "### 내장 module 종류\n",
    "- `math`\n",
    "- `random`\n",
    "- `os`\n",
    "- `time`\n",
    "- `urllib`\n",
    "- `tkinter`"
   ]
  },
  {
   "attachments": {},
   "cell_type": "markdown",
   "metadata": {},
   "source": [
    "#### `random`"
   ]
  },
  {
   "cell_type": "code",
   "execution_count": 11,
   "metadata": {},
   "outputs": [
    {
     "name": "stdout",
     "output_type": "stream",
     "text": [
      "# random 모듈\n",
      "\n",
      "# random() -> float(0.0 <= x < 1.0)\n",
      "[0.0, 1.0) 사이의 무작위 실수 값: 0.6747151040276878\n",
      "\n",
      "# uniform(min, max) -> float(min <= x < max)\n",
      "[min(10), max(20)) 사이의 무작위 실수 값: 19.401636740698518\n",
      "\n",
      "# randrange(max) -> int(0 <= x < max)\n",
      "[0, max(10)) 사이의 무작위 정수 값: 0\n",
      "\n",
      "# randrange(min, max) -> int(min <= x < max)\n",
      "[min(10), max(20)) 사이의 무작위 정수 값: 18\n",
      "\n",
      "# randrange(min, max) -> int(min <= x < max)\n",
      "[min(10), max(20)) 사이의 무작위 정수 값: 19\n",
      "\n",
      "# choice(iterable) -> item\n",
      "임의로 선택된 한 문자: j\n",
      "임의로 선택된 한 문자열: 보\n",
      "\n",
      "# sample(iterable, k) -> list\n",
      "임의로 선택된 한 문자열: ['i', 'g', 'b']\n",
      "임의로 선택된 한 문자열: ['바위', '보']\n"
     ]
    }
   ],
   "source": [
    "from random import random, uniform, randrange, randint, choice, sample\n",
    "\n",
    "print(\"# random 모듈\")\n",
    "\n",
    "print(\"\\n# random() -> float(0.0 <= x < 1.0)\")\n",
    "print(\"[0.0, 1.0) 사이의 무작위 실수 값:\", random())\n",
    "\n",
    "print(\"\\n# uniform(min, max) -> float(min <= x < max)\")\n",
    "print(f\"[min({10}), max({20})) 사이의 무작위 실수 값:\", uniform(10, 20))\n",
    "\n",
    "print(\"\\n# randrange(max) -> int(0 <= x < max)\")\n",
    "# randrange() == choice(range())\n",
    "print(f\"[0, max({10})) 사이의 무작위 정수 값:\", randrange(10))\n",
    "\n",
    "print(\"\\n# randrange(min, max) -> int(min <= x < max)\")\n",
    "print(f\"[min({10}), max({20})) 사이의 무작위 정수 값:\", randrange(10, 20))\n",
    "\n",
    "print(\"\\n# randint(min, max) -> int(min <= x <= max)\")\n",
    "print(f\"[min({10}), max({20})] 사이의 무작위 정수 값:\", randint(10, 20))\n",
    "\n",
    "print(\"\\n# choice(iterable) -> item\")\n",
    "print(\"임의로 선택된 한 문자:\", choice(\"abcdefghij\"))\n",
    "print(\"임의로 선택된 한 문자열:\", choice([\"가위\", \"바위\", \"보\"]))\n",
    "\n",
    "print(\"\\n# sample(iterable, k) -> list\")\n",
    "print(\"임의로 선택된 한 문자열:\", sample(\"abcdefghij\", 3))\n",
    "print(\"임의로 선택된 한 문자열:\", sample([\"가위\", \"바위\", \"보\"], 2))"
   ]
  },
  {
   "attachments": {},
   "cell_type": "markdown",
   "metadata": {},
   "source": [
    "#### `os`"
   ]
  },
  {
   "cell_type": "code",
   "execution_count": 13,
   "metadata": {},
   "outputs": [
    {
     "name": "stdout",
     "output_type": "stream",
     "text": [
      "# OS 모듈\n",
      "\n",
      "# 기본 정보\n",
      "현재 운영체제: nt\n",
      "현재 폴더: c:\\Users\\rhseung\\Coding\\Repositories\\gsa-projects\\3rd-Semester\n",
      "현재 폴더 내부의 요소: ['.git', '.idea', 'exception.ipynb', 'module.ipynb', 'set.ipynb', '딴짓', '중간고사']\n",
      "\n",
      "# 폴더를 만들고 제거\n",
      "\n",
      "# 파일을 생성하고 + 파일 이름을 변경\n",
      "\n",
      "# 파일을 제거\n",
      "\n",
      "# 시스템 명령어 실행\n"
     ]
    },
    {
     "data": {
      "text/plain": [
       "0"
      ]
     },
     "execution_count": 13,
     "metadata": {},
     "output_type": "execute_result"
    }
   ],
   "source": [
    "import os\n",
    "\n",
    "print(\"# OS 모듈\")\n",
    "\n",
    "print(\"\\n# 기본 정보\")\n",
    "print(\"현재 운영체제:\", os.name)\n",
    "print(\"현재 폴더:\", os.getcwd())\n",
    "print(\"현재 폴더 내부의 요소:\", os.listdir())\n",
    "\n",
    "print(\"\\n# 폴더를 만들고 제거\")\n",
    "os.mkdir(\"hello\")\n",
    "os.rmdir(\"hello\")\n",
    "\n",
    "print(\"\\n# 파일을 생성하고 + 파일 이름을 변경\")\n",
    "with open(\"original.txt\", \"w\") as file:\n",
    "    file.write(\"hello\")\n",
    "os.rename(\"original.txt\", \"new.txt\")\n",
    "\n",
    "print(\"\\n# 파일을 제거\")\n",
    "os.remove(\"new.txt\")\n",
    "# os.unlink(\"new.txt\")    # 같은 기능의 함수\n",
    "\n",
    "print(\"\\n# 시스템 명령어 실행\")\n",
    "os.system(\"dir\")"
   ]
  },
  {
   "attachments": {},
   "cell_type": "markdown",
   "metadata": {},
   "source": [
    "예제. 디렉토리인지 파일인지 분류하기"
   ]
  },
  {
   "cell_type": "code",
   "execution_count": 14,
   "metadata": {},
   "outputs": [
    {
     "name": "stdout",
     "output_type": "stream",
     "text": [
      "현재 폴더의 파일/폴더: ['.git', '.idea', 'exception.ipynb', 'module.ipynb', 'set.ipynb', '딴짓', '중간고사']\n",
      "\n",
      ".git <- 폴더\n",
      ".idea <- 폴더\n",
      "exception.ipynb <- 파일\n",
      "module.ipynb <- 파일\n",
      "set.ipynb <- 파일\n",
      "딴짓 <- 폴더\n",
      "중간고사 <- 폴더\n"
     ]
    }
   ],
   "source": [
    "import os\n",
    "\n",
    "things = os.listdir('.')\n",
    "print('현재 폴더의 파일/폴더:', things)\n",
    "print()\n",
    "\n",
    "for item in things:\n",
    "    if os.path.isdir(item):\n",
    "        print(f'{item} <- 폴더')\n",
    "    else:\n",
    "        print(f'{item} <- 파일')"
   ]
  },
  {
   "cell_type": "code",
   "execution_count": 23,
   "metadata": {},
   "outputs": [
    {
     "data": {
      "text/plain": [
       "False"
      ]
     },
     "execution_count": 23,
     "metadata": {},
     "output_type": "execute_result"
    }
   ],
   "source": [
    "os.path.isdir('inspectionProfiles')"
   ]
  },
  {
   "attachments": {},
   "cell_type": "markdown",
   "metadata": {},
   "source": [
    "예제. 디렉토리 안의 모든 파일 가져오기"
   ]
  },
  {
   "cell_type": "code",
   "execution_count": 42,
   "metadata": {},
   "outputs": [
    {
     "name": "stdout",
     "output_type": "stream",
     "text": [
      "현재 폴더의 파일/폴더: ['.git', '.idea', 'exception.ipynb', 'module.ipynb', 'set.ipynb', '딴짓', '중간고사']\n",
      "\n",
      "📄 exception.ipynb\n",
      "📄 module.ipynb\n",
      "📄 set.ipynb\n",
      "📁 딴짓\n",
      "  📁 딴짓/ps_machine\n",
      "    📄 딴짓/ps_machine/ps.ipynb\n",
      "    📄 딴짓/ps_machine/ps_tester.py\n",
      "    📄 딴짓/ps_machine/user_code.txt\n",
      "  📄 딴짓/test.wlnb\n",
      "📁 중간고사\n",
      "  📄 중간고사/1. basic.ipynb\n",
      "  📄 중간고사/2. variable, constant.ipynb\n",
      "  📄 중간고사/3. input, output.ipynb\n",
      "  📁 중간고사/3. 조건문\n",
      "    📁 중간고사/3. 조건문/과제\n",
      "     ...\n",
      "    📁 중간고사/3. 조건문/예제\n",
      "     ...\n",
      "  📄 중간고사/4. str.ipynb\n",
      "  📁 중간고사/4. 반복문\n",
      "    📁 중간고사/4. 반복문/과제\n",
      "     ...\n",
      "    📁 중간고사/4. 반복문/예제\n",
      "     ...\n",
      "  📄 중간고사/5. list.ipynb\n",
      "  📁 중간고사/5. 딕셔너리\n",
      "    📁 중간고사/5. 딕셔너리/예제\n",
      "     ...\n",
      "  📄 중간고사/6. for, while.ipynb\n",
      "  📄 중간고사/7. dictionary.ipynb\n",
      "  📄 중간고사/8. function.ipynb\n",
      "  📄 중간고사/9. file.ipynb\n",
      "  📄 중간고사/info.txt\n",
      "  📄 중간고사/main.py\n",
      "  📄 중간고사/sentence.txt\n",
      "  📁 중간고사/과제\n",
      "    📄 중간고사/과제/2104_1.py\n",
      "    📄 중간고사/과제/2104_10.py\n",
      "    📄 중간고사/과제/2104_2.py\n",
      "    📄 중간고사/과제/2104_3.py\n",
      "    📄 중간고사/과제/2104_4.py\n",
      "    📄 중간고사/과제/2104_5.py\n",
      "    📄 중간고사/과제/2104_6.py\n",
      "    📄 중간고사/과제/2104_7.py\n",
      "    📄 중간고사/과제/2104_8.py\n",
      "    📄 중간고사/과제/2104_9.py\n",
      "    📄 중간고사/과제/assignments.ipynb\n",
      "    📄 중간고사/과제/words.txt\n",
      "    📁 중간고사/과제/과제4\n",
      "     ...\n"
     ]
    }
   ],
   "source": [
    "import os\n",
    "\n",
    "def read_folder(path, depth=0):\n",
    "    things = os.listdir(path)\n",
    "\n",
    "    if depth > 2:\n",
    "        print(f'{\" \" * (depth + 1)} ...')\n",
    "        return\n",
    "\n",
    "    for item in things:\n",
    "        if item[0] == '.': continue\n",
    "\n",
    "        sub_path = f'{path}/{item}'\n",
    "        if os.path.isdir(sub_path):\n",
    "            print(f'{\"  \" * depth}📁 {sub_path[2:]}')\n",
    "            read_folder(sub_path, depth+1)   # 재귀로 구현하기\n",
    "        else:\n",
    "            print(f'{\"  \" * depth}📄 {sub_path[2:]}')\n",
    "\n",
    "things = os.listdir('.')\n",
    "print('현재 폴더의 파일/폴더:', things)\n",
    "print()\n",
    "\n",
    "read_folder('.')"
   ]
  },
  {
   "cell_type": "code",
   "execution_count": 16,
   "metadata": {},
   "outputs": [
    {
     "name": "stdout",
     "output_type": "stream",
     "text": [
      "3RD-SEMESTER\n",
      "ㄴ6-1. 집합.ipynb\n",
      "ㄴ6-2. 예외처리.ipynb\n",
      "ㄴchromedriver_win32\n",
      "    ㄴchromedriver.exe\n",
      "    ㄴLICENSE.chromedriver\n",
      "ㄴ딴짓\n",
      "    ㄴps_machine\n",
      "        ㄴps.ipynb\n",
      "        ㄴps_tester.py\n",
      "        ㄴuser_code.txt\n",
      "    ㄴtest.wlnb\n",
      "ㄴ수업\n",
      "    ㄴexception.ipynb\n",
      "    ㄴmodule.ipynb\n",
      "    ㄴset.ipynb\n",
      "ㄴ중간고사\n",
      "    ㄴ1. basic.ipynb\n",
      "    ㄴ2. variable, constant.ipynb\n",
      "    ㄴ3. input, output.ipynb\n",
      "    ㄴ3. 조건문\n",
      "        ㄴ과제\n",
      "        ...\n",
      "        ㄴ예제\n",
      "        ...\n",
      "    ㄴ4. str.ipynb\n",
      "    ㄴ4. 반복문\n",
      "        ㄴ과제\n",
      "        ...\n",
      "        ㄴ예제\n",
      "        ...\n",
      "    ㄴ5. list.ipynb\n",
      "    ㄴ5. 딕셔너리\n",
      "        ㄴ예제\n",
      "        ...\n",
      "    ㄴ6. for, while.ipynb\n",
      "    ㄴ7. dictionary.ipynb\n",
      "    ㄴ8. function.ipynb\n",
      "    ㄴ9. file.ipynb\n",
      "    ㄴinfo.txt\n",
      "    ㄴmain.py\n",
      "    ㄴsentence.txt\n",
      "    ㄴ과제\n",
      "        ㄴ2104_1.py\n",
      "        ㄴ2104_10.py\n",
      "        ㄴ2104_2.py\n",
      "        ㄴ2104_3.py\n",
      "        ㄴ2104_4.py\n",
      "        ㄴ2104_5.py\n",
      "        ㄴ2104_6.py\n",
      "        ㄴ2104_7.py\n",
      "        ㄴ2104_8.py\n",
      "        ㄴ2104_9.py\n",
      "        ㄴassignments.ipynb\n",
      "        ㄴwords.txt\n",
      "        ㄴ과제4\n",
      "        ...\n"
     ]
    }
   ],
   "source": [
    "%reset\n",
    "\n",
    "import os\n",
    "\n",
    "# 디렉토리 안의 모든 파일 가져오기\n",
    "def read_dir(path, depth=0):\n",
    "    contents = os.listdir(path)\n",
    "\n",
    "    if depth > 2:\n",
    "        print(' '*8 + '...')\n",
    "        return\n",
    "\n",
    "    for content in contents:\n",
    "        sub_path = path + '/' + content\n",
    "\n",
    "        if content.startswith('.'):\n",
    "            continue\n",
    "\n",
    "        print(f'{\"    \" * depth}ㄴ{content}')\n",
    "        if os.path.isdir(sub_path):\n",
    "            read_dir(sub_path, depth=depth+1)\n",
    "\n",
    "print('3RD-SEMESTER')\n",
    "read_dir('..')"
   ]
  },
  {
   "attachments": {},
   "cell_type": "markdown",
   "metadata": {},
   "source": [
    "#### `time`"
   ]
  },
  {
   "cell_type": "code",
   "execution_count": 40,
   "metadata": {},
   "outputs": [
    {
     "name": "stdout",
     "output_type": "stream",
     "text": [
      "지금부터 5초 동안 정지합니다!\n",
      "프로그램을 종료합니다.\n"
     ]
    }
   ],
   "source": [
    "import time\n",
    "\n",
    "print(\"지금부터 5초 동안 정지합니다!\")\n",
    "time.sleep(5)\n",
    "print(\"프로그램을 종료합니다.\")"
   ]
  },
  {
   "attachments": {},
   "cell_type": "markdown",
   "metadata": {},
   "source": [
    "#### `urllib`"
   ]
  },
  {
   "cell_type": "code",
   "execution_count": 41,
   "metadata": {},
   "outputs": [
    {
     "data": {
      "text/plain": [
       "b'<!doctype html><html itemscope=\"\" itemtype=\"http://schema.org/WebPage\" lang=\"ko\"><head><meta content=\"text/html; charset=UTF-8\" http-equiv=\"Content-Type\"><meta content=\"/logos/doodles/2023/parents-day-2023-6753651837109868.2-l.png\" itemprop=\"image\"><meta content=\"2023&#45380; &#50612;&#48260;&#51060;&#45216;\" property=\"twitter:title\"><meta content=\"&#54637;&#49345; &#44048;&#49324;&#54616;&#44256; &#49324;&#46993;&#54633;&#45768;&#45796; #GoogleDoodle\" property=\"twitter:description\"><meta content=\"&#54637;&#49345; &#44048;&#49324;&#54616;&#44256; &#49324;&#46993;&#54633;&#45768;&#45796; #GoogleDoodle\" property=\"og:description\"><meta content=\"summary_large_image\" property=\"twitter:card\"><meta content=\"@GoogleDoodles\" property=\"twitter:site\"><meta content=\"https://www.google.com/logos/doodles/2023/parents-day-2023-6753651837109868-2x.png\" property=\"twitter:image\"><meta content=\"https://www.google.com/logos/doodles/2023/parents-day-2023-6753651837109868-2x.png\" property=\"og:image\"><meta content=\"1000\" property=\"og:image:width\"><meta content=\"400\" property=\"og:image:height\"><title>Google</title><script nonce=\"QvmzCNTZ5jU_QmklwRuj3Q\">(function(){window.google={kEI:\\'5VJYZOf6CcWc-Abv_JCgDw\\',kEXPI:\\'0,1359409,6059,206,4804,2316,383,246,5,1129120,1197731,670,380090,16114,28684,22430,1362,12320,4745,12834,4998,13228,3847,38444,2872,2891,4139,4209,3406,606,29842,28444,2404,2614,13142,3,576,20583,4,1528,2304,42127,13658,21223,5812,2545,4094,7596,1,42154,2,14022,25739,5679,1021,31122,4568,6258,23418,1252,5835,14967,4333,19,4236,3229,445,2,2,1,26632,8155,7381,15970,872,19633,8,1922,7838,1941,36154,2524,3781,2007,18192,927,19209,14,82,13247,6959,8377,18988,550,4825,3030,6111,3225,6480,1804,6250,4222,2276,609,449,6711,6575,6005,3132,4289,3537,2365,662,1632,5807,2,2141,1760,4139,597,543,994,2154,2757,1439,670,616,661,4,451,475,221,1271,749,2608,3049,164,91,303,287,4216,319,3,233,369,292,176,2,299,730,916,1917,812,10,169,772,197,933,549,8,3,7,55,227,1093,363,5,550,1857,464,640,3,317,10,36,214,137,247,567,579,562,372,434,589,186,2,10,535,123,1875,5200623,6017,212,50,556,52,28,8798207,3311,141,795,19735,1,1,346,5093,2,34,12,453,24,76,23944791,578,4041564,1964,5415,11258,2893,6250,14715,1024,1562044,34358,23524,23555083,84,95,133,884,518,6,163,2,437,87,232,744,81,345,178,243,472,2,148,653,763,76,93,364,1158,574,668,581,409,487,206,416,178,432,265,47,446,86,461,561,1189,697,363,735,183,1,6,50,614,270,198,421,1211,178,1127\\',kBL:\\'Xw_a\\',kOPI:89978449};google.sn=\\'webhp\\';google.kHL=\\'ko\\';})();(function(){\\nvar h=this||self;function l(){return void 0!==window.google&&void 0!==window.google.kOPI&&0!==window.google.kOPI?window.google.kOPI:null};var m,n=[];function p(a){for(var b;a&&(!a.getAttribute||!(b=a.getAttribute(\"eid\")));)a=a.parentNode;return b||m}function q(a){for(var b=null;a&&(!a.getAttribute||!(b=a.getAttribute(\"leid\")));)a=a.parentNode;return b}function r(a){/^http:/i.test(a)&&\"https:\"===window.location.protocol&&(google.ml&&google.ml(Error(\"a\"),!1,{src:a,glmm:1}),a=\"\");return a}\\nfunction t(a,b,c,d,k){var e=\"\";-1===b.search(\"&ei=\")&&(e=\"&ei=\"+p(d),-1===b.search(\"&lei=\")&&(d=q(d))&&(e+=\"&lei=\"+d));d=\"\";var g=-1===b.search(\"&cshid=\")&&\"slh\"!==a,f=[];f.push([\"zx\",Date.now().toString()]);h._cshid&&g&&f.push([\"cshid\",h._cshid]);c=c();null!=c&&f.push([\"opi\",c.toString()]);for(c=0;c<f.length;c++){if(0===c||0<c)d+=\"&\";d+=f[c][0]+\"=\"+f[c][1]}return\"/\"+(k||\"gen_204\")+\"?atyp=i&ct=\"+String(a)+\"&cad=\"+(b+e+d)};m=google.kEI;google.getEI=p;google.getLEI=q;google.ml=function(){return null};google.log=function(a,b,c,d,k,e){e=void 0===e?l:e;c||(c=t(a,b,e,d,k));if(c=r(c)){a=new Image;var g=n.length;n[g]=a;a.onerror=a.onload=a.onabort=function(){delete n[g]};a.src=c}};google.logUrl=function(a,b){b=void 0===b?l:b;return t(\"\",a,b)};}).call(this);(function(){google.y={};google.sy=[];google.x=function(a,b){if(a)var c=a.id;else{do c=Math.random();while(google.y[c])}google.y[c]=[a,b];return!1};google.sx=function(a){google.sy.push(a)};google.lm=[];google.plm=function(a){google.lm.push.apply(google.lm,a)};google.lq=[];google.load=function(a,b,c){google.lq.push([[a],b,c])};google.loadAll=function(a,b){google.lq.push([a,b])};google.bx=!1;google.lx=function(){};}).call(this);google.f={};(function(){\\ndocument.documentElement.addEventListener(\"submit\",function(b){var a;if(a=b.target){var c=a.getAttribute(\"data-submitfalse\");a=\"1\"===c||\"q\"===c&&!a.elements.q.value?!0:!1}else a=!1;a&&(b.preventDefault(),b.stopPropagation())},!0);document.documentElement.addEventListener(\"click\",function(b){var a;a:{for(a=b.target;a&&a!==document.documentElement;a=a.parentElement)if(\"A\"===a.tagName){a=\"1\"===a.getAttribute(\"data-nohref\");break a}a=!1}a&&b.preventDefault()},!0);}).call(this);</script><style>#gbar,#guser{font-size:13px;padding-top:1px !important;}#gbar{height:22px}#guser{padding-bottom:7px !important;text-align:right}.gbh,.gbd{border-top:1px solid #c9d7f1;font-size:1px}.gbh{height:0;position:absolute;top:24px;width:100%}@media all{.gb1{height:22px;margin-right:.5em;vertical-align:top}#gbar{float:left}}a.gb1,a.gb4{text-decoration:underline !important}a.gb1,a.gb4{color:#00c !important}.gbi .gb4{color:#dd8e27 !important}.gbf .gb4{color:#900 !important}\\n</style><style>body,td,a,p,.h{font-family:&#44404;&#47548;,&#46027;&#50880;,arial,sans-serif}.ko{font-size:9pt}body{margin:0;overflow-y:scroll}#gog{padding:3px 8px 0}td{line-height:.8em}.gac_m td{line-height:17px}form{margin-bottom:20px}.h{color:#1558d6}em{font-weight:bold;font-style:normal}.lst{height:25px;width:496px}.gsfi,.lst{font:18px arial,sans-serif}.gsfs{font:17px arial,sans-serif}.ds{display:inline-box;display:inline-block;margin:3px 0 4px;margin-left:4px}input{font-family:inherit}body{background:#fff;color:#000}a{color:#4b11a8;text-decoration:none}a:hover,a:active{text-decoration:underline}.fl a{color:#1558d6}a:visited{color:#4b11a8}.sblc{padding-top:5px}.sblc a{display:block;margin:2px 0;margin-left:13px;font-size:11px}.lsbb{background:#f8f9fa;border:solid 1px;border-color:#dadce0 #70757a #70757a #dadce0;height:30px}.lsbb{display:block}#WqQANb a{display:inline-block;margin:0 12px}.lsb{background:url(/images/nav_logo229.png) 0 -261px repeat-x;border:none;color:#000;cursor:pointer;height:30px;margin:0;outline:0;font:15px arial,sans-serif;vertical-align:top}.lsb:active{background:#dadce0}.lst:focus{outline:none}.Ucigb{width:458px}</style><script nonce=\"QvmzCNTZ5jU_QmklwRuj3Q\">(function(){window.google.erd={jsr:1,bv:1789,de:true};\\nvar h=this||self;var k,l=null!=(k=h.mei)?k:1,n,p=null!=(n=h.sdo)?n:!0,q=0,r,t=google.erd,v=t.jsr;google.ml=function(a,b,d,m,e){e=void 0===e?2:e;b&&(r=a&&a.message);if(google.dl)return google.dl(a,e,d),null;if(0>v){window.console&&console.error(a,d);if(-2===v)throw a;b=!1}else b=!a||!a.message||\"Error loading script\"===a.message||q>=l&&!m?!1:!0;if(!b)return null;q++;d=d||{};b=encodeURIComponent;var c=\"/gen_204?atyp=i&ei=\"+b(google.kEI);google.kEXPI&&(c+=\"&jexpid=\"+b(google.kEXPI));c+=\"&srcpg=\"+b(google.sn)+\"&jsr=\"+b(t.jsr)+\"&bver=\"+b(t.bv);var f=a.lineNumber;void 0!==f&&(c+=\"&line=\"+f);var g=\\na.fileName;g&&(0<g.indexOf(\"-extension:/\")&&(e=3),c+=\"&script=\"+b(g),f&&g===window.location.href&&(f=document.documentElement.outerHTML.split(\"\\\\n\")[f],c+=\"&cad=\"+b(f?f.substring(0,300):\"No script found.\")));c+=\"&jsel=\"+e;for(var u in d)c+=\"&\",c+=b(u),c+=\"=\",c+=b(d[u]);c=c+\"&emsg=\"+b(a.name+\": \"+a.message);c=c+\"&jsst=\"+b(a.stack||\"N/A\");12288<=c.length&&(c=c.substr(0,12288));a=c;m||google.log(0,\"\",a);return a};window.onerror=function(a,b,d,m,e){r!==a&&(a=e instanceof Error?e:Error(a),void 0===d||\"lineNumber\"in a||(a.lineNumber=d),void 0===b||\"fileName\"in a||(a.fileName=b),google.ml(a,!1,void 0,!1,\"SyntaxError\"===a.name||\"SyntaxError\"===a.message.substring(0,11)||-1!==a.message.indexOf(\"Script error\")?3:0));r=null;p&&q>=l&&(window.onerror=null)};})();</script></head><body bgcolor=\"#fff\"><script nonce=\"QvmzCNTZ5jU_QmklwRuj3Q\">(function(){var src=\\'/images/nav_logo229.png\\';var iesg=false;document.body.onload = function(){window.n && window.n();if (document.images){new Image().src=src;}\\nif (!iesg){document.f&&document.f.q.focus();document.gbqf&&document.gbqf.q.focus();}\\n}\\n})();</script><div id=\"mngb\"><div id=gbar><nobr><b class=gb1>&#44160;&#49353;</b> <a class=gb1 href=\"https://www.google.co.kr/imghp?hl=ko&tab=wi\">&#51060;&#48120;&#51648;</a> <a class=gb1 href=\"https://maps.google.co.kr/maps?hl=ko&tab=wl\">&#51648;&#46020;</a> <a class=gb1 href=\"https://play.google.com/?hl=ko&tab=w8\">Play</a> <a class=gb1 href=\"https://www.youtube.com/?tab=w1\">YouTube</a> <a class=gb1 href=\"https://news.google.com/?tab=wn\">&#45684;&#49828;</a> <a class=gb1 href=\"https://mail.google.com/mail/?tab=wm\">Gmail</a> <a class=gb1 href=\"https://drive.google.com/?tab=wo\">&#46300;&#46972;&#51060;&#48652;</a> <a class=gb1 style=\"text-decoration:none\" href=\"https://www.google.co.kr/intl/ko/about/products?tab=wh\"><u>&#45908;&#48372;&#44592;</u> &raquo;</a></nobr></div><div id=guser width=100%><nobr><span id=gbn class=gbi></span><span id=gbf class=gbf></span><span id=gbe></span><a href=\"http://www.google.co.kr/history/optout?hl=ko\" class=gb4>&#50937; &#44592;&#47197;</a> | <a  href=\"/preferences?hl=ko\" class=gb4>&#49444;&#51221;</a> | <a target=_top id=gb_70 href=\"https://accounts.google.com/ServiceLogin?hl=ko&passive=true&continue=https://www.google.com/&ec=GAZAAQ\" class=gb4>&#47196;&#44536;&#51064;</a></nobr></div><div class=gbh style=left:0></div><div class=gbh style=right:0></div></div><center><br clear=\"all\" id=\"lgpd\"><div id=\"lga\"><a href=\"/search?ie=UTF-8&amp;q=%EC%96%B4%EB%B2%84%EC%9D%B4%EB%82%A0&amp;oi=ddle&amp;ct=253316312&amp;hl=ko&amp;si=AMnBZoEofOODruSEFWFjdccePwMH96ZlZt3bOiKSR9t4pqlu2FGeyKNFzJVuLqJ_lvy4n46nvVT-S-JuDnv5Ki02AYd1sJrgNzEUP9CFVDgt0ZJe_JZIjORlJmS-gSMn1AEYyxEEmXk-dFlZfaVK1nv_frtE2G_aznj5EYOZsfAUp4Y-oK8gWEY%3D&amp;sa=X&amp;ved=0ahUKEwingYW3y-T-AhVFDt4KHW8-BPQQPQgD\"><img alt=\"2023&#45380; &#50612;&#48260;&#51060;&#45216;\" border=\"0\" height=\"200\" src=\"/logos/doodles/2023/parents-day-2023-6753651837109868.2-l.png\" title=\"2023&#45380; &#50612;&#48260;&#51060;&#45216;\" width=\"500\" id=\"hplogo\"><br></a><br></div><form action=\"/search\" name=\"f\"><table cellpadding=\"0\" cellspacing=\"0\"><tr valign=\"top\"><td width=\"25%\">&nbsp;</td><td align=\"center\" nowrap=\"\"><input name=\"ie\" value=\"ISO-8859-1\" type=\"hidden\"><input value=\"ko\" name=\"hl\" type=\"hidden\"><input name=\"source\" type=\"hidden\" value=\"hp\"><input name=\"biw\" type=\"hidden\"><input name=\"bih\" type=\"hidden\"><div class=\"ds\" style=\"height:32px;margin:4px 0\"><div style=\"position:relative;zoom:1\"><input class=\"lst Ucigb\" style=\"margin:0;padding:5px 8px 0 6px;vertical-align:top;color:#000;padding-right:38px\" autocomplete=\"off\" value=\"\" title=\"Google &#44160;&#49353;\" maxlength=\"2048\" name=\"q\" size=\"57\"><img src=\"/textinputassistant/tia.png\" style=\"position:absolute;cursor:pointer;right:5px;top:4px;z-index:300\" data-script-url=\"/textinputassistant/11/ko_tia.js\" id=\"tsuid_1\" alt=\"\" height=\"23\" width=\"27\"><script nonce=\"QvmzCNTZ5jU_QmklwRuj3Q\">(function(){var id=\\'tsuid_1\\';document.getElementById(id).onclick = function(){var s = document.createElement(\\'script\\');s.src = this.getAttribute(\\'data-script-url\\');(document.getElementById(\\'xjsc\\')||document.body).appendChild(s);};})();</script></div></div><br style=\"line-height:0\"><span class=\"ds\"><span class=\"lsbb\"><input class=\"lsb\" value=\"Google &#44160;&#49353;\" name=\"btnG\" type=\"submit\"></span></span><span class=\"ds\"><span class=\"lsbb\"><input class=\"lsb\" id=\"tsuid_2\" value=\"I&#8217;m Feeling Lucky\" name=\"btnI\" type=\"submit\"><script nonce=\"QvmzCNTZ5jU_QmklwRuj3Q\">(function(){var id=\\'tsuid_2\\';document.getElementById(id).onclick = function(){if (this.form.q.value){this.checked = 1;if (this.form.iflsig)this.form.iflsig.disabled = false;}\\nelse top.location=\\'/doodles/\\';};})();</script><input value=\"AOEireoAAAAAZFhg9fnLnmkZJVPxY-wE_SgWD_1Pmh4U\" name=\"iflsig\" type=\"hidden\"></span></span></td><td class=\"fl sblc\" align=\"left\" nowrap=\"\" width=\"25%\"><a href=\"/advanced_search?hl=ko&amp;authuser=0\">&#44256;&#44553;&#44160;&#49353;</a></td></tr></table><input id=\"gbv\" name=\"gbv\" type=\"hidden\" value=\"1\"><script nonce=\"QvmzCNTZ5jU_QmklwRuj3Q\">(function(){var a,b=\"1\";if(document&&document.getElementById)if(\"undefined\"!=typeof XMLHttpRequest)b=\"2\";else if(\"undefined\"!=typeof ActiveXObject){var c,d,e=[\"MSXML2.XMLHTTP.6.0\",\"MSXML2.XMLHTTP.3.0\",\"MSXML2.XMLHTTP\",\"Microsoft.XMLHTTP\"];for(c=0;d=e[c++];)try{new ActiveXObject(d),b=\"2\"}catch(h){}}a=b;if(\"2\"==a&&-1==location.search.indexOf(\"&gbv=2\")){var f=google.gbvu,g=document.getElementById(\"gbv\");g&&(g.value=a);f&&window.setTimeout(function(){location.href=f},0)};}).call(this);</script></form><div id=\"gac_scont\"></div><div style=\"font-size:83%;min-height:3.5em\"><br></div><span id=\"footer\"><div style=\"font-size:10pt\"><div style=\"margin:19px auto;text-align:center\" id=\"WqQANb\"><a href=\"/intl/ko/ads/\">&#44305;&#44256;</a><a href=\"http://www.google.co.kr/intl/ko/services/\">&#48708;&#51592;&#45768;&#49828; &#49556;&#47336;&#49496;</a><a href=\"/intl/ko/about.html\">Google &#51221;&#48372;</a><a href=\"https://www.google.com/setprefdomain?prefdom=KR&amp;prev=https://www.google.co.kr/&amp;sig=K_T4NrYpKfELwUhV6tbSpKcUdPypw%3D\">Google.co.kr</a></div></div><p style=\"font-size:8pt;color:#70757a\">&copy; 2023 - <a href=\"/intl/ko/policies/privacy/\">&#44060;&#51064;&#51221;&#48372;&#52376;&#47532;&#48169;&#52840;</a> - <a href=\"/intl/ko/policies/terms/\">&#50557;&#44288;</a></p></span></center><script nonce=\"QvmzCNTZ5jU_QmklwRuj3Q\">(function(){window.google.cdo={height:757,width:1440};(function(){var a=window.innerWidth,b=window.innerHeight;if(!a||!b){var c=window.document,d=\"CSS1Compat\"==c.compatMode?c.documentElement:c.body;a=d.clientWidth;b=d.clientHeight}\\nif(a&&b&&(a!=google.cdo.width||b!=google.cdo.height)){var e=google,f=e.log,g=\"/client_204?&atyp=i&biw=\"+a+\"&bih=\"+b+\"&ei=\"+google.kEI,h=\"\",k=[],l=void 0!==window.google&&void 0!==window.google.kOPI&&0!==window.google.kOPI?window.google.kOPI:null;null!=l&&k.push([\"opi\",l.toString()]);for(var m=0;m<k.length;m++){if(0===m||0<m)h+=\"&\";h+=k[m][0]+\"=\"+k[m][1]}f.call(e,\"\",\"\",g+h)};}).call(this);})();</script> <script nonce=\"QvmzCNTZ5jU_QmklwRuj3Q\">(function(){google.xjs={ck:\\'xjs.hp.vUsZk7fd8do.L.X.O\\',cs:\\'ACT90oHvNKf0VndSCQCbyvBm-VFWBpF2tQ\\',excm:[]};})();</script>  <script nonce=\"QvmzCNTZ5jU_QmklwRuj3Q\">(function(){var u=\\'/xjs/_/js/k\\\\x3dxjs.hp.en.CULboG5sOro.O/am\\\\x3dAAAA6AQAUABgAQ/d\\\\x3d1/ed\\\\x3d1/rs\\\\x3dACT90oFZxVOwITafXDZCzqnHTQ0_Y7i2BA/m\\\\x3dsb_he,d\\';var amd=0;\\nvar e=this||self,f=function(c){return c};var g;var k=function(c){this.g=c};k.prototype.toString=function(){return this.g+\"\"};var m={};\\nfunction q(){var c=u,n=function(){};google.lx=google.stvsc?n:function(){google.timers&&google.timers.load&&google.tick&&google.tick(\"load\",\"xjsls\");var a=document;var b=\"SCRIPT\";\"application/xhtml+xml\"===a.contentType&&(b=b.toLowerCase());b=a.createElement(b);a=null===c?\"null\":void 0===c?\"undefined\":c;if(void 0===g){var d=null;var l=e.trustedTypes;if(l&&l.createPolicy){try{d=l.createPolicy(\"goog#html\",{createHTML:f,createScript:f,createScriptURL:f})}catch(r){e.console&&e.console.error(r.message)}g=\\nd}else g=d}a=(d=g)?d.createScriptURL(a):a;a=new k(a,m);b.src=a instanceof k&&a.constructor===k?a.g:\"type_error:TrustedResourceUrl\";var h,p;(h=(a=null==(p=(h=(b.ownerDocument&&b.ownerDocument.defaultView||window).document).querySelector)?void 0:p.call(h,\"script[nonce]\"))?a.nonce||a.getAttribute(\"nonce\")||\"\":\"\")&&b.setAttribute(\"nonce\",h);document.body.appendChild(b);google.psa=!0;google.lx=n};google.bx||google.lx()};google.xjsu=u;e._F_jsUrl=u;setTimeout(function(){0<amd?google.caft(function(){return q()},amd):q()},0);})();window._ = window._ || {};window._DumpException = _._DumpException = function(e){throw e;};window._s = window._s || {};_s._DumpException = _._DumpException;window._qs = window._qs || {};_qs._DumpException = _._DumpException;function _F_installCss(c){}\\n(function(){google.jl={blt:\\'none\\',chnk:0,dw:false,dwu:true,emtn:0,end:0,ico:false,ikb:0,ine:false,injs:\\'none\\',injt:0,injth:0,injv2:false,lls:\\'default\\',pdt:0,rep:0,snet:true,strt:0,ubm:false,uwp:true};})();(function(){var pmc=\\'{\\\\x22d\\\\x22:{},\\\\x22sb_he\\\\x22:{\\\\x22agen\\\\x22:true,\\\\x22cgen\\\\x22:true,\\\\x22client\\\\x22:\\\\x22heirloom-hp\\\\x22,\\\\x22dh\\\\x22:true,\\\\x22ds\\\\x22:\\\\x22\\\\x22,\\\\x22fl\\\\x22:true,\\\\x22host\\\\x22:\\\\x22google.com\\\\x22,\\\\x22jsonp\\\\x22:true,\\\\x22msgs\\\\x22:{\\\\x22cibl\\\\x22:\\\\x22\\\\\\\\uac80\\\\\\\\uc0c9\\\\\\\\uc5b4 \\\\\\\\uc9c0\\\\\\\\uc6b0\\\\\\\\uae30\\\\x22,\\\\x22dym\\\\x22:\\\\x22\\\\\\\\uc774\\\\\\\\uac83\\\\\\\\uc744 \\\\\\\\ucc3e\\\\\\\\uc73c\\\\\\\\uc168\\\\\\\\ub098\\\\\\\\uc694?\\\\x22,\\\\x22lcky\\\\x22:\\\\x22I\\\\\\\\u2019m Feeling Lucky\\\\x22,\\\\x22lml\\\\x22:\\\\x22\\\\\\\\uc790\\\\\\\\uc138\\\\\\\\ud788 \\\\\\\\uc54c\\\\\\\\uc544\\\\\\\\ubcf4\\\\\\\\uae30\\\\x22,\\\\x22psrc\\\\x22:\\\\x22\\\\\\\\uac80\\\\\\\\uc0c9\\\\\\\\uc5b4\\\\\\\\uac00 \\\\\\\\u003Ca href\\\\x3d\\\\\\\\\\\\x22/history\\\\\\\\\\\\x22\\\\\\\\u003E\\\\\\\\uc6f9 \\\\\\\\uae30\\\\\\\\ub85d\\\\\\\\u003C/a\\\\\\\\u003E\\\\\\\\uc5d0\\\\\\\\uc11c \\\\\\\\uc0ad\\\\\\\\uc81c\\\\\\\\ub418\\\\\\\\uc5c8\\\\\\\\uc2b5\\\\\\\\ub2c8\\\\\\\\ub2e4.\\\\x22,\\\\x22psrl\\\\x22:\\\\x22\\\\\\\\uc0ad\\\\\\\\uc81c\\\\x22,\\\\x22sbit\\\\x22:\\\\x22\\\\\\\\uc774\\\\\\\\ubbf8\\\\\\\\uc9c0\\\\\\\\ub85c \\\\\\\\uac80\\\\\\\\uc0c9\\\\x22,\\\\x22srch\\\\x22:\\\\x22Google \\\\\\\\uac80\\\\\\\\uc0c9\\\\x22},\\\\x22ovr\\\\x22:{},\\\\x22pq\\\\x22:\\\\x22\\\\x22,\\\\x22rfs\\\\x22:[],\\\\x22sbas\\\\x22:\\\\x220 3px 8px 0 rgba(0,0,0,0.2),0 0 0 1px rgba(0,0,0,0.08)\\\\x22,\\\\x22stok\\\\x22:\\\\x220tcMT5qAze-idZTkPx2bbzdIGBk\\\\x22}}\\';google.pmc=JSON.parse(pmc);})();</script>       </body></html>'"
      ]
     },
     "execution_count": 41,
     "metadata": {},
     "output_type": "execute_result"
    }
   ],
   "source": [
    "from urllib import request\n",
    "\n",
    "target = request.urlopen(\"https://google.com\")\n",
    "output = target.read()\n",
    "\n",
    "output"
   ]
  },
  {
   "attachments": {},
   "cell_type": "markdown",
   "metadata": {},
   "source": [
    "#### `tkinter`"
   ]
  },
  {
   "cell_type": "code",
   "execution_count": null,
   "metadata": {},
   "outputs": [],
   "source": [
    "# ㅁ?ㄹ"
   ]
  },
  {
   "attachments": {},
   "cell_type": "markdown",
   "metadata": {},
   "source": [
    "### 외장 module"
   ]
  },
  {
   "attachments": {},
   "cell_type": "markdown",
   "metadata": {},
   "source": [
    "#### requests, BeautifulSoup"
   ]
  },
  {
   "cell_type": "code",
   "execution_count": 2,
   "metadata": {},
   "outputs": [
    {
     "name": "stdout",
     "output_type": "stream",
     "text": [
      "200\n",
      "<!doctype html><html itemscope=\"\" itemtype=\"http://schema.org/WebPage\" lang=\"ko\"><head><meta content=\"text/html; charset=UTF-8\" http-equiv=\"Content-Type\"><meta content=\"/images/branding/googleg/1x/googleg_standard_color_128dp.png\" itemprop=\"image\"><title>Google</title><script nonce=\"S7JbijflaPZSCSc_ReYixg\">(function(){window.google={kEI:'sYRhZPaNEcPFhwObhqLYDA',kEXPI:'0,18168,1341241,6059,206,4804,2316,383,246,5,1129120,1197781,620,380090,16114,19398,9286,22431,1361,12319,17580,4998,13228,3847,38444,885,1987,2891,4139,7615,606,30668,30022,2614,13142,3,346,230,20583,4,1528,2304,38933,3194,13658,4437,16786,5815,2542,4094,7596,1,42154,2,14022,25739,5679,1020,16404,14719,4568,6255,23421,1252,5835,14967,4333,19,7465,445,2,2,1,26632,8155,6682,699,15970,872,19634,7,1922,9779,5864,17029,13261,6305,2007,33,17732,427,17618,2518,14,82,13247,6959,8377,13128,5832,5403,3030,6111,11509,6250,4222,2884,9481,10260,2171,2414,2836,3537,2365,662,1250,385,5804,2,2141,5595,315,1129,7344,1191,95,656,4,442,14,476,1491,149,595,2612,275,2939,394,158,130,3859,354,321,3,626,448,2,297,4383,168,772,712,418,538,8,3,13,52,238,218,3,3,9,524,334,1020,1523,232,464,636,3,322,1,44,214,185,199,567,461,79,601,372,1023,182,2,14,79,455,2400,5206240,261,197,360,44,5,9,8798228,3311,936,4,19731,1,1,346,5095,46,553,45,38,17,6,14,4,39,9,3,19,30,15,16,15,1,14,11,3,23944491,578,2737887,1303678,1964,1008,15665,2893,6250,14715,285,739,3884,1411173,146986,23612289,677,84,94,134,1402,98,510,20,67,951,106,344,179,243,105,153,2,203,2,1649,457,942,1972,66,410,316,171,138,274,3,268,117,450,119,68,638,195,267,120,2317,25,348,196,73,1,467,628,330,4,151,198,438,432,90,3,678,1898,1159',kBL:'3Dh8',kOPI:89978449};google.sn='webhp';google.kHL='ko';})();(function(){\n",
      "var h=this||self;function l(){return void 0!==window.google&&void 0!==window.google.kOPI&&0!==window.google.kOPI?window.google.kOPI:null};var m,n=[];function p(a){for(var b;a&&(!a.getAttribute||!(b=a.getAttribute(\"eid\")));)a=a.parentNode;return b||m}function q(a){for(var b=null;a&&(!a.getAttribute||!(b=a.getAttribute(\"leid\")));)a=a.parentNode;return b}function r(a){/^http:/i.test(a)&&\"https:\"===window.location.protocol&&(google.ml&&google.ml(Error(\"a\"),!1,{src:a,glmm:1}),a=\"\");return a}\n",
      "function t(a,b,c,d,k){var e=\"\";-1===b.search(\"&ei=\")&&(e=\"&ei=\"+p(d),-1===b.search(\"&lei=\")&&(d=q(d))&&(e+=\"&lei=\"+d));d=\"\";var g=-1===b.search(\"&cshid=\")&&\"slh\"!==a,f=[];f.push([\"zx\",Date.now().toString()]);h._cshid&&g&&f.push([\"cshid\",h._cshid]);c=c();null!=c&&f.push([\"opi\",c.toString()]);for(c=0;c<f.length;c++){if(0===c||0<c)d+=\"&\";d+=f[c][0]+\"=\"+f[c][1]}return\"/\"+(k||\"gen_204\")+\"?atyp=i&ct=\"+String(a)+\"&cad=\"+(b+e+d)};m=google.kEI;google.getEI=p;google.getLEI=q;google.ml=function(){return null};google.log=function(a,b,c,d,k,e){e=void 0===e?l:e;c||(c=t(a,b,e,d,k));if(c=r(c)){a=new Image;var g=n.length;n[g]=a;a.onerror=a.onload=a.onabort=function(){delete n[g]};a.src=c}};google.logUrl=function(a,b){b=void 0===b?l:b;return t(\"\",a,b)};}).call(this);(function(){google.y={};google.sy=[];google.x=function(a,b){if(a)var c=a.id;else{do c=Math.random();while(google.y[c])}google.y[c]=[a,b];return!1};google.sx=function(a){google.sy.push(a)};google.lm=[];google.plm=function(a){google.lm.push.apply(google.lm,a)};google.lq=[];google.load=function(a,b,c){google.lq.push([[a],b,c])};google.loadAll=function(a,b){google.lq.push([a,b])};google.bx=!1;google.lx=function(){};}).call(this);google.f={};(function(){\n",
      "document.documentElement.addEventListener(\"submit\",function(b){var a;if(a=b.target){var c=a.getAttribute(\"data-submitfalse\");a=\"1\"===c||\"q\"===c&&!a.elements.q.value?!0:!1}else a=!1;a&&(b.preventDefault(),b.stopPropagation())},!0);document.documentElement.addEventListener(\"click\",function(b){var a;a:{for(a=b.target;a&&a!==document.documentElement;a=a.parentElement)if(\"A\"===a.tagName){a=\"1\"===a.getAttribute(\"data-nohref\");break a}a=!1}a&&b.preventDefault()},!0);}).call(this);</script><style>#gbar,#guser{font-size:13px;padding-top:1px !important;}#gbar{height:22px}#guser{padding-bottom:7px !important;text-align:right}.gbh,.gbd{border-top:1px solid #c9d7f1;font-size:1px}.gbh{height:0;position:absolute;top:24px;width:100%}@media all{.gb1{height:22px;margin-right:.5em;vertical-align:top}#gbar{float:left}}a.gb1,a.gb4{text-decoration:underline !important}a.gb1,a.gb4{color:#00c !important}.gbi .gb4{color:#dd8e27 !important}.gbf .gb4{color:#900 !important}\n",
      "</style><style>body,td,a,p,.h{font-family:&#44404;&#47548;,&#46027;&#50880;,arial,sans-serif}.ko{font-size:9pt}body{margin:0;overflow-y:scroll}#gog{padding:3px 8px 0}td{line-height:.8em}.gac_m td{line-height:17px}form{margin-bottom:20px}.h{color:#1558d6}em{font-weight:bold;font-style:normal}.lst{height:25px;width:496px}.gsfi,.lst{font:18px arial,sans-serif}.gsfs{font:17px arial,sans-serif}.ds{display:inline-box;display:inline-block;margin:3px 0 4px;margin-left:4px}input{font-family:inherit}body{background:#fff;color:#000}a{color:#4b11a8;text-decoration:none}a:hover,a:active{text-decoration:underline}.fl a{color:#1558d6}a:visited{color:#4b11a8}.sblc{padding-top:5px}.sblc a{display:block;margin:2px 0;margin-left:13px;font-size:11px}.lsbb{background:#f8f9fa;border:solid 1px;border-color:#dadce0 #70757a #70757a #dadce0;height:30px}.lsbb{display:block}#WqQANb a{display:inline-block;margin:0 12px}.lsb{background:url(/images/nav_logo229.png) 0 -261px repeat-x;border:none;color:#000;cursor:pointer;height:30px;margin:0;outline:0;font:15px arial,sans-serif;vertical-align:top}.lsb:active{background:#dadce0}.lst:focus{outline:none}.Ucigb{width:458px}</style><script nonce=\"S7JbijflaPZSCSc_ReYixg\">(function(){window.google.erd={jsr:1,bv:1794,de:true};\n",
      "var h=this||self;var k,l=null!=(k=h.mei)?k:1,n,p=null!=(n=h.sdo)?n:!0,q=0,r,t=google.erd,v=t.jsr;google.ml=function(a,b,d,m,e){e=void 0===e?2:e;b&&(r=a&&a.message);if(google.dl)return google.dl(a,e,d),null;if(0>v){window.console&&console.error(a,d);if(-2===v)throw a;b=!1}else b=!a||!a.message||\"Error loading script\"===a.message||q>=l&&!m?!1:!0;if(!b)return null;q++;d=d||{};b=encodeURIComponent;var c=\"/gen_204?atyp=i&ei=\"+b(google.kEI);google.kEXPI&&(c+=\"&jexpid=\"+b(google.kEXPI));c+=\"&srcpg=\"+b(google.sn)+\"&jsr=\"+b(t.jsr)+\"&bver=\"+b(t.bv);var f=a.lineNumber;void 0!==f&&(c+=\"&line=\"+f);var g=\n",
      "a.fileName;g&&(0<g.indexOf(\"-extension:/\")&&(e=3),c+=\"&script=\"+b(g),f&&g===window.location.href&&(f=document.documentElement.outerHTML.split(\"\\n\")[f],c+=\"&cad=\"+b(f?f.substring(0,300):\"No script found.\")));c+=\"&jsel=\"+e;for(var u in d)c+=\"&\",c+=b(u),c+=\"=\",c+=b(d[u]);c=c+\"&emsg=\"+b(a.name+\": \"+a.message);c=c+\"&jsst=\"+b(a.stack||\"N/A\");12288<=c.length&&(c=c.substr(0,12288));a=c;m||google.log(0,\"\",a);return a};window.onerror=function(a,b,d,m,e){r!==a&&(a=e instanceof Error?e:Error(a),void 0===d||\"lineNumber\"in a||(a.lineNumber=d),void 0===b||\"fileName\"in a||(a.fileName=b),google.ml(a,!1,void 0,!1,\"SyntaxError\"===a.name||\"SyntaxError\"===a.message.substring(0,11)||-1!==a.message.indexOf(\"Script error\")?3:0));r=null;p&&q>=l&&(window.onerror=null)};})();</script></head><body bgcolor=\"#fff\"><script nonce=\"S7JbijflaPZSCSc_ReYixg\">(function(){var src='/images/nav_logo229.png';var iesg=false;document.body.onload = function(){window.n && window.n();if (document.images){new Image().src=src;}\n",
      "if (!iesg){document.f&&document.f.q.focus();document.gbqf&&document.gbqf.q.focus();}\n",
      "}\n",
      "})();</script><div id=\"mngb\"><div id=gbar><nobr><b class=gb1>&#44160;&#49353;</b> <a class=gb1 href=\"https://www.google.co.kr/imghp?hl=ko&tab=wi\">&#51060;&#48120;&#51648;</a> <a class=gb1 href=\"https://maps.google.co.kr/maps?hl=ko&tab=wl\">&#51648;&#46020;</a> <a class=gb1 href=\"https://play.google.com/?hl=ko&tab=w8\">Play</a> <a class=gb1 href=\"https://www.youtube.com/?tab=w1\">YouTube</a> <a class=gb1 href=\"https://news.google.com/?tab=wn\">&#45684;&#49828;</a> <a class=gb1 href=\"https://mail.google.com/mail/?tab=wm\">Gmail</a> <a class=gb1 href=\"https://drive.google.com/?tab=wo\">&#46300;&#46972;&#51060;&#48652;</a> <a class=gb1 style=\"text-decoration:none\" href=\"https://www.google.co.kr/intl/ko/about/products?tab=wh\"><u>&#45908;&#48372;&#44592;</u> &raquo;</a></nobr></div><div id=guser width=100%><nobr><span id=gbn class=gbi></span><span id=gbf class=gbf></span><span id=gbe></span><a href=\"http://www.google.co.kr/history/optout?hl=ko\" class=gb4>&#50937; &#44592;&#47197;</a> | <a  href=\"/preferences?hl=ko\" class=gb4>&#49444;&#51221;</a> | <a target=_top id=gb_70 href=\"https://accounts.google.com/ServiceLogin?hl=ko&passive=true&continue=https://www.google.com/&ec=GAZAAQ\" class=gb4>&#47196;&#44536;&#51064;</a></nobr></div><div class=gbh style=left:0></div><div class=gbh style=right:0></div></div><center><br clear=\"all\" id=\"lgpd\"><div id=\"lga\"><img alt=\"Google\" height=\"92\" src=\"/images/branding/googlelogo/1x/googlelogo_white_background_color_272x92dp.png\" style=\"padding:28px 0 14px\" width=\"272\" id=\"hplogo\"><br><br></div><form action=\"/search\" name=\"f\"><table cellpadding=\"0\" cellspacing=\"0\"><tr valign=\"top\"><td width=\"25%\">&nbsp;</td><td align=\"center\" nowrap=\"\"><input name=\"ie\" value=\"ISO-8859-1\" type=\"hidden\"><input value=\"ko\" name=\"hl\" type=\"hidden\"><input name=\"source\" type=\"hidden\" value=\"hp\"><input name=\"biw\" type=\"hidden\"><input name=\"bih\" type=\"hidden\"><div class=\"ds\" style=\"height:32px;margin:4px 0\"><div style=\"position:relative;zoom:1\"><input class=\"lst Ucigb\" style=\"margin:0;padding:5px 8px 0 6px;vertical-align:top;color:#000;padding-right:38px\" autocomplete=\"off\" value=\"\" title=\"Google &#44160;&#49353;\" maxlength=\"2048\" name=\"q\" size=\"57\"><img src=\"/textinputassistant/tia.png\" style=\"position:absolute;cursor:pointer;right:5px;top:4px;z-index:300\" data-script-url=\"/textinputassistant/11/ko_tia.js\" id=\"tsuid_1\" alt=\"\" height=\"23\" width=\"27\"><script nonce=\"S7JbijflaPZSCSc_ReYixg\">(function(){var id='tsuid_1';document.getElementById(id).onclick = function(){var s = document.createElement('script');s.src = this.getAttribute('data-script-url');(document.getElementById('xjsc')||document.body).appendChild(s);};})();</script></div></div><br style=\"line-height:0\"><span class=\"ds\"><span class=\"lsbb\"><input class=\"lsb\" value=\"Google &#44160;&#49353;\" name=\"btnG\" type=\"submit\"></span></span><span class=\"ds\"><span class=\"lsbb\"><input class=\"lsb\" id=\"tsuid_2\" value=\"I&#8217;m Feeling Lucky\" name=\"btnI\" type=\"submit\"><script nonce=\"S7JbijflaPZSCSc_ReYixg\">(function(){var id='tsuid_2';document.getElementById(id).onclick = function(){if (this.form.q.value){this.checked = 1;if (this.form.iflsig)this.form.iflsig.disabled = false;}\n",
      "else top.location='/doodles/';};})();</script><input value=\"AOEireoAAAAAZGGSwdGBLlFXqzIsRfcFWfLwCRgLJx0e\" name=\"iflsig\" type=\"hidden\"></span></span></td><td class=\"fl sblc\" align=\"left\" nowrap=\"\" width=\"25%\"><a href=\"/advanced_search?hl=ko&amp;authuser=0\">&#44256;&#44553;&#44160;&#49353;</a></td></tr></table><input id=\"gbv\" name=\"gbv\" type=\"hidden\" value=\"1\"><script nonce=\"S7JbijflaPZSCSc_ReYixg\">(function(){var a,b=\"1\";if(document&&document.getElementById)if(\"undefined\"!=typeof XMLHttpRequest)b=\"2\";else if(\"undefined\"!=typeof ActiveXObject){var c,d,e=[\"MSXML2.XMLHTTP.6.0\",\"MSXML2.XMLHTTP.3.0\",\"MSXML2.XMLHTTP\",\"Microsoft.XMLHTTP\"];for(c=0;d=e[c++];)try{new ActiveXObject(d),b=\"2\"}catch(h){}}a=b;if(\"2\"==a&&-1==location.search.indexOf(\"&gbv=2\")){var f=google.gbvu,g=document.getElementById(\"gbv\");g&&(g.value=a);f&&window.setTimeout(function(){location.href=f},0)};}).call(this);</script></form><div id=\"gac_scont\"></div><div style=\"font-size:83%;min-height:3.5em\"><br></div><span id=\"footer\"><div style=\"font-size:10pt\"><div style=\"margin:19px auto;text-align:center\" id=\"WqQANb\"><a href=\"/intl/ko/ads/\">&#44305;&#44256;</a><a href=\"http://www.google.co.kr/intl/ko/services/\">&#48708;&#51592;&#45768;&#49828; &#49556;&#47336;&#49496;</a><a href=\"/intl/ko/about.html\">Google &#51221;&#48372;</a><a href=\"https://www.google.com/setprefdomain?prefdom=KR&amp;prev=https://www.google.co.kr/&amp;sig=K_fQ__To__1e8R9iydoqFh1XxWWZM%3D\">Google.co.kr</a></div></div><p style=\"font-size:8pt;color:#70757a\">&copy; 2023 - <a href=\"/intl/ko/policies/privacy/\">&#44060;&#51064;&#51221;&#48372;&#52376;&#47532;&#48169;&#52840;</a> - <a href=\"/intl/ko/policies/terms/\">&#50557;&#44288;</a></p></span></center><script nonce=\"S7JbijflaPZSCSc_ReYixg\">(function(){window.google.cdo={height:757,width:1440};(function(){var a=window.innerWidth,b=window.innerHeight;if(!a||!b){var c=window.document,d=\"CSS1Compat\"==c.compatMode?c.documentElement:c.body;a=d.clientWidth;b=d.clientHeight}\n",
      "if(a&&b&&(a!=google.cdo.width||b!=google.cdo.height)){var e=google,f=e.log,g=\"/client_204?&atyp=i&biw=\"+a+\"&bih=\"+b+\"&ei=\"+google.kEI,h=\"\",k=[],l=void 0!==window.google&&void 0!==window.google.kOPI&&0!==window.google.kOPI?window.google.kOPI:null;null!=l&&k.push([\"opi\",l.toString()]);for(var m=0;m<k.length;m++){if(0===m||0<m)h+=\"&\";h+=k[m][0]+\"=\"+k[m][1]}f.call(e,\"\",\"\",g+h)};}).call(this);})();</script> <script nonce=\"S7JbijflaPZSCSc_ReYixg\">(function(){google.xjs={ck:'xjs.hp.vUsZk7fd8do.L.X.O',cs:'ACT90oGbnOskxgbTsPoxyd36w9Bc0ypPwA',csss:'ACT90oFTlYdZgeTNRRv0p7IiIE5xP1O-og',excm:[],sepcss:false};})();</script>  <script nonce=\"S7JbijflaPZSCSc_ReYixg\">(function(){var u='/xjs/_/js/k\\x3dxjs.hp.en.QMBCJEb_cEE.O/am\\x3dAAAA6AQAUABgAQ/d\\x3d1/ed\\x3d1/rs\\x3dACT90oHGlF1zL7sF9sgaGlTaix6ObO1RQQ/m\\x3dsb_he,d';var amd=0;\n",
      "var e=this||self,f=function(c){return c};var g;var k=function(c){this.g=c};k.prototype.toString=function(){return this.g+\"\"};var m={};\n",
      "function q(){var c=u,n=function(){};google.lx=google.stvsc?n:function(){google.timers&&google.timers.load&&google.tick&&google.tick(\"load\",\"xjsls\");var a=document;var b=\"SCRIPT\";\"application/xhtml+xml\"===a.contentType&&(b=b.toLowerCase());b=a.createElement(b);a=null===c?\"null\":void 0===c?\"undefined\":c;if(void 0===g){var d=null;var l=e.trustedTypes;if(l&&l.createPolicy){try{d=l.createPolicy(\"goog#html\",{createHTML:f,createScript:f,createScriptURL:f})}catch(r){e.console&&e.console.error(r.message)}g=\n",
      "d}else g=d}a=(d=g)?d.createScriptURL(a):a;a=new k(a,m);b.src=a instanceof k&&a.constructor===k?a.g:\"type_error:TrustedResourceUrl\";var h,p;(h=(a=null==(p=(h=(b.ownerDocument&&b.ownerDocument.defaultView||window).document).querySelector)?void 0:p.call(h,\"script[nonce]\"))?a.nonce||a.getAttribute(\"nonce\")||\"\":\"\")&&b.setAttribute(\"nonce\",h);document.body.appendChild(b);google.psa=!0;google.lx=n};google.bx||google.lx()};google.xjsu=u;e._F_jsUrl=u;setTimeout(function(){0<amd?google.caft(function(){return q()},amd):q()},0);})();window._ = window._ || {};window._DumpException = _._DumpException = function(e){throw e;};window._s = window._s || {};_s._DumpException = _._DumpException;window._qs = window._qs || {};_qs._DumpException = _._DumpException;function _F_installCss(c){}\n",
      "(function(){google.jl={blt:'none',chnk:0,dw:false,dwu:true,emtn:0,end:0,ico:false,ikb:0,ine:false,injs:'none',injt:0,injth:0,injv2:false,lls:'default',pdt:0,rep:0,snet:true,strt:0,ubm:false,uwp:true};})();(function(){var pmc='{\\x22d\\x22:{},\\x22sb_he\\x22:{\\x22agen\\x22:true,\\x22cgen\\x22:true,\\x22client\\x22:\\x22heirloom-hp\\x22,\\x22dh\\x22:true,\\x22ds\\x22:\\x22\\x22,\\x22fl\\x22:true,\\x22host\\x22:\\x22google.com\\x22,\\x22jsonp\\x22:true,\\x22msgs\\x22:{\\x22cibl\\x22:\\x22\\\\uac80\\\\uc0c9\\\\uc5b4 \\\\uc9c0\\\\uc6b0\\\\uae30\\x22,\\x22dym\\x22:\\x22\\\\uc774\\\\uac83\\\\uc744 \\\\ucc3e\\\\uc73c\\\\uc168\\\\ub098\\\\uc694?\\x22,\\x22lcky\\x22:\\x22I\\\\u2019m Feeling Lucky\\x22,\\x22lml\\x22:\\x22\\\\uc790\\\\uc138\\\\ud788 \\\\uc54c\\\\uc544\\\\ubcf4\\\\uae30\\x22,\\x22psrc\\x22:\\x22\\\\uac80\\\\uc0c9\\\\uc5b4\\\\uac00 \\\\u003Ca href\\x3d\\\\\\x22/history\\\\\\x22\\\\u003E\\\\uc6f9 \\\\uae30\\\\ub85d\\\\u003C/a\\\\u003E\\\\uc5d0\\\\uc11c \\\\uc0ad\\\\uc81c\\\\ub418\\\\uc5c8\\\\uc2b5\\\\ub2c8\\\\ub2e4.\\x22,\\x22psrl\\x22:\\x22\\\\uc0ad\\\\uc81c\\x22,\\x22sbit\\x22:\\x22\\\\uc774\\\\ubbf8\\\\uc9c0\\\\ub85c \\\\uac80\\\\uc0c9\\x22,\\x22srch\\x22:\\x22Google \\\\uac80\\\\uc0c9\\x22},\\x22ovr\\x22:{},\\x22pq\\x22:\\x22\\x22,\\x22rfs\\x22:[],\\x22sbas\\x22:\\x220 3px 8px 0 rgba(0,0,0,0.2),0 0 0 1px rgba(0,0,0,0.08)\\x22,\\x22stok\\x22:\\x22_FgVYbaK1C9PzOOMqGo_22NI9PM\\x22}}';google.pmc=JSON.parse(pmc);})();(function(){\n",
      "var b=function(a){var c=0;return function(){return c<a.length?{done:!1,value:a[c++]}:{done:!0}}},e=this||self;var g,h;a:{for(var k=[\"CLOSURE_FLAGS\"],l=e,n=0;n<k.length;n++)if(l=l[k[n]],null==l){h=null;break a}h=l}var p=h&&h[610401301];g=null!=p?p:!1;var q,r=e.navigator;q=r?r.userAgentData||null:null;function t(a){return g?q?q.brands.some(function(c){return(c=c.brand)&&-1!=c.indexOf(a)}):!1:!1}function u(a){var c;a:{if(c=e.navigator)if(c=c.userAgent)break a;c=\"\"}return-1!=c.indexOf(a)};function v(){return g?!!q&&0<q.brands.length:!1}function w(){return u(\"Safari\")&&!(x()||(v()?0:u(\"Coast\"))||(v()?0:u(\"Opera\"))||(v()?0:u(\"Edge\"))||(v()?t(\"Microsoft Edge\"):u(\"Edg/\"))||(v()?t(\"Opera\"):u(\"OPR\"))||u(\"Firefox\")||u(\"FxiOS\")||u(\"Silk\")||u(\"Android\"))}function x(){return v()?t(\"Chromium\"):(u(\"Chrome\")||u(\"CriOS\"))&&!(v()?0:u(\"Edge\"))||u(\"Silk\")}function y(){return u(\"Android\")&&!(x()||u(\"Firefox\")||u(\"FxiOS\")||(v()?0:u(\"Opera\"))||u(\"Silk\"))};var z=v()?!1:u(\"Trident\")||u(\"MSIE\");y();x();w();var A=!z&&!w(),D=function(a){if(/-[a-z]/.test(\"ved\"))return null;if(A&&a.dataset){if(y()&&!(\"ved\"in a.dataset))return null;a=a.dataset.ved;return void 0===a?null:a}return a.getAttribute(\"data-\"+\"ved\".replace(/([A-Z])/g,\"-$1\").toLowerCase())};var E=[],F=null;function G(a){a=a.target;var c=performance.now(),f=[],H=f.concat,d=E;if(!(d instanceof Array)){var m=\"undefined\"!=typeof Symbol&&Symbol.iterator&&d[Symbol.iterator];if(m)d=m.call(d);else if(\"number\"==typeof d.length)d={next:b(d)};else throw Error(\"a`\"+String(d));for(var B=[];!(m=d.next()).done;)B.push(m.value);d=B}E=H.call(f,d,[c]);if(a&&a instanceof HTMLElement)if(a===F){if(c=4<=E.length)c=5>(E[E.length-1]-E[E.length-4])/1E3;if(c){c=google.getEI(a);a.hasAttribute(\"data-ved\")?f=a?D(a)||\"\":\"\":f=(f=\n",
      "a.closest(\"[data-ved]\"))?D(f)||\"\":\"\";f=f||\"\";if(a.hasAttribute(\"jsname\"))a=a.getAttribute(\"jsname\");else{var C;a=null==(C=a.closest(\"[jsname]\"))?void 0:C.getAttribute(\"jsname\")}google.log(\"rcm\",\"&ei=\"+c+\"&ved=\"+f+\"&jsname=\"+(a||\"\"))}}else F=a,E=[c]}window.document.addEventListener(\"DOMContentLoaded\",function(){document.body.addEventListener(\"click\",G)});}).call(this);</script></body></html>\n"
     ]
    }
   ],
   "source": [
    "import requests\n",
    "\n",
    "response = requests.get(\"https://google.com/\")\n",
    "\n",
    "print(response.status_code)\n",
    "print(response.text)"
   ]
  },
  {
   "cell_type": "code",
   "execution_count": 9,
   "metadata": {},
   "outputs": [
    {
     "name": "stdout",
     "output_type": "stream",
     "text": [
      "구글 제품 대다수 AI로 재창조··· 한눈에 보는 구글 I/O 속 AI 기술\n",
      "[코딩 트렌드] 코틀린(Kotlin), 3월 PyPL 인기 프로그래밍 언어 랭킹 13위...티오베 지수 순위 35위\n",
      "[코딩 트렌드] 코틀린(Kotlin), 2월 PyPL 인기 프로그래밍 언어 랭킹 13위...티오베 지수 순위 33위\n",
      "코틀린 1.8.0, 재귀복사 추가…디렉토리는 삭제\n",
      "[코딩 트렌드] 코틀린, 1월 PyPL 인기 프로그래밍 언어 랭킹 13위...티오베 지수 순위 25위\n",
      "[코딩 트렌드] 코틀린(Kotlin), 12월 PyPL 인기 프로그래밍 언어 랭킹 13위...티오베 지수 순위 23위\n",
      "[코딩 트렌드] 코틀린(Kotlin), 11월 PyPL 인기 프로그래밍 언어 랭킹 12위...티오베 지수 순위 28위\n",
      "메타는 왜 안드로이드 앱을 코틀린으로 다시 짜나\n",
      "페북 소프트웨어 엔지니어, 안드로이드 앱 코드베이스를 자바에서 '코틀린'으로 전환하는 이유 설명\n",
      "[코딩 트렌드] 코틀린(Kotlin), 10월 PyPL 인기 프로그래밍 언어 랭킹 12위...티오베 지수 28위\n"
     ]
    }
   ],
   "source": [
    "from bs4 import BeautifulSoup\n",
    "import requests\n",
    "\n",
    "url = \"https://search.naver.com/search.naver?where=news&sm=tab_jum&query=\" + input(\"검색어 입력: \")\n",
    "\n",
    "response = requests.get(url)\n",
    "soup = BeautifulSoup(response.text, \"html.parser\")\n",
    "\n",
    "selected = soup.select('a.news_tit')\n",
    "for e in selected:\n",
    "    print(e['title'])"
   ]
  },
  {
   "cell_type": "code",
   "execution_count": 11,
   "metadata": {},
   "outputs": [
    {
     "name": "stdout",
     "output_type": "stream",
     "text": [
      "[]\n"
     ]
    }
   ],
   "source": [
    "from bs4 import BeautifulSoup\n",
    "import requests\n",
    "\n",
    "url = \"https://www.google.com/search?q=코틀린&source=lnms&tbm=nws&sa=X&ved=2ahUKEwi-qLidlPb-AhWwr1YBHX1dCZUQ_AUoBHoECAEQBg&biw=1536&bih=760&dpr=1.25&safe=active&ssui=on\"\n",
    "\n",
    "response = requests.get(url)\n",
    "soup = BeautifulSoup(response.text, \"html.parser\")\n",
    "\n",
    "selected = soup.select('div.n0jPhd.ynAwRc.MBeuO.nDgy9d')\n",
    "print(selected)\n",
    "for e in selected:\n",
    "    print(e['title'])\n",
    "\n",
    "# 구글은 안되네요"
   ]
  },
  {
   "cell_type": "code",
   "execution_count": 20,
   "metadata": {},
   "outputs": [],
   "source": [
    "import time\n",
    "from selenium import webdriver\n",
    "from selenium.webdriver.common.by import By\n",
    "from selenium.webdriver.chrome.service import Service\n",
    "from webdriver_manager.chrome import ChromeDriverManager\n",
    "\n",
    "driver = webdriver.Chrome(service=Service(ChromeDriverManager().install()))\n",
    "driver.get(\"http://lms.gsa.hs.kr\")\n",
    "time.sleep(0.5)\n",
    "\n",
    "id = driver.find_element(By.ID, \"username\")\n",
    "id.send_keys('22027')\n",
    "\n",
    "pwd = driver.find_element(By.ID, \"password\")\n",
    "pwd.send_keys('fbgustmd;')\n",
    "\n",
    "button_submit = driver.find_element(By.ID, \"loginbtn\")\n",
    "button_submit.click()\n",
    "\n"
   ]
  },
  {
   "attachments": {},
   "cell_type": "markdown",
   "metadata": {},
   "source": [
    "#### pyautogui, pyperclip"
   ]
  },
  {
   "cell_type": "code",
   "execution_count": 10,
   "metadata": {},
   "outputs": [
    {
     "name": "stdout",
     "output_type": "stream",
     "text": [
      "Point(x=1048, y=421)\n",
      "Point(x=1027, y=451)\n",
      "Point(x=964, y=570)\n",
      "Point(x=893, y=702)\n",
      "Point(x=885, y=748)\n",
      "Point(x=880, y=772)\n",
      "Point(x=857, y=798)\n",
      "Point(x=854, y=812)\n",
      "Point(x=854, y=815)\n",
      "Point(x=856, y=819)\n",
      "Point(x=860, y=823)\n",
      "Point(x=863, y=824)\n",
      "Point(x=863, y=824)\n",
      "Point(x=863, y=824)\n",
      "Point(x=863, y=824)\n",
      "Point(x=863, y=824)\n",
      "Point(x=863, y=824)\n",
      "Point(x=863, y=824)\n",
      "Point(x=863, y=824)\n",
      "Point(x=863, y=824)\n",
      "Point(x=863, y=824)\n",
      "Point(x=863, y=824)\n",
      "Point(x=863, y=824)\n",
      "Point(x=863, y=824)\n",
      "Point(x=863, y=824)\n",
      "Point(x=863, y=824)\n",
      "Point(x=863, y=824)\n",
      "Point(x=863, y=824)\n",
      "Point(x=863, y=824)\n",
      "Point(x=864, y=819)\n",
      "Point(x=994, y=640)\n",
      "Point(x=1046, y=266)\n",
      "Point(x=1046, y=264)\n",
      "Point(x=1046, y=309)\n",
      "Point(x=1044, y=392)\n",
      "Point(x=1041, y=408)\n",
      "Point(x=1040, y=411)\n",
      "Point(x=1040, y=411)\n",
      "Point(x=1040, y=411)\n"
     ]
    },
    {
     "ename": "KeyboardInterrupt",
     "evalue": "",
     "output_type": "error",
     "traceback": [
      "\u001b[1;31m---------------------------------------------------------------------------\u001b[0m",
      "\u001b[1;31mKeyboardInterrupt\u001b[0m                         Traceback (most recent call last)",
      "Cell \u001b[1;32mIn[10], line 6\u001b[0m\n\u001b[0;32m      4\u001b[0m \u001b[39mwhile\u001b[39;00m \u001b[39mTrue\u001b[39;00m:\n\u001b[0;32m      5\u001b[0m     \u001b[39mprint\u001b[39m(pyautogui\u001b[39m.\u001b[39mposition())\n\u001b[1;32m----> 6\u001b[0m     time\u001b[39m.\u001b[39msleep(\u001b[39m0.1\u001b[39m)\n",
      "\u001b[1;31mKeyboardInterrupt\u001b[0m: "
     ]
    }
   ],
   "source": [
    "import pyautogui\n",
    "import time\n",
    "\n",
    "while True:\n",
    "    print(pyautogui.position())\n",
    "    time.sleep(0.1)"
   ]
  },
  {
   "attachments": {},
   "cell_type": "markdown",
   "metadata": {},
   "source": [
    "네이버에 '광주의 날씨' 검색 자동"
   ]
  },
  {
   "cell_type": "code",
   "execution_count": 8,
   "metadata": {},
   "outputs": [],
   "source": [
    "import pyautogui\n",
    "import time\n",
    "import pyperclip\n",
    "\n",
    "pyautogui.moveTo(390, 263, 0.2)\n",
    "pyautogui.click()\n",
    "time.sleep(0.5)\n",
    "\n",
    "pyperclip.copy('광주의 날씨')\n",
    "pyautogui.hotkey('ctrl', 'v')\n",
    "time.sleep(0.5)\n",
    "\n",
    "pyautogui.write(['enter'])\n",
    "time.sleep(1)"
   ]
  },
  {
   "attachments": {},
   "cell_type": "markdown",
   "metadata": {},
   "source": [
    "날씨 이미지 캡처 후 저장하기"
   ]
  },
  {
   "cell_type": "code",
   "execution_count": 17,
   "metadata": {},
   "outputs": [
    {
     "data": {
      "image/png": "[encoded data removed]",
      "text/plain": [
       "<PIL.Image.Image image mode=RGB size=810x371>"
      ]
     },
     "execution_count": 17,
     "metadata": {},
     "output_type": "execute_result"
    }
   ],
   "source": [
    "import pyautogui\n",
    "import time\n",
    "import pyperclip\n",
    "\n",
    "pyautogui.moveTo(390, 263, 0.2)\n",
    "pyautogui.click()\n",
    "time.sleep(0.5)\n",
    "\n",
    "pyperclip.copy('광주의 날씨')\n",
    "pyautogui.hotkey('ctrl', 'v')\n",
    "time.sleep(0.5)\n",
    "\n",
    "pyautogui.write(['enter'])\n",
    "time.sleep(0.5)\n",
    "x0, y0 = 53, 453\n",
    "x1, y1 = 863, 824\n",
    "\n",
    "# region=(x0, y0, width, height)\n",
    "pyautogui.screenshot(r'C:\\Users\\rhseung\\Desktop\\광주날씨.png', region=(x0, y0, x1-x0, y1-y0))"
   ]
  },
  {
   "cell_type": "code",
   "execution_count": null,
   "metadata": {},
   "outputs": [],
   "source": []
  }
 ],
 "metadata": {
  "kernelspec": {
   "display_name": "Python 3",
   "language": "python",
   "name": "python3"
  },
  "language_info": {
   "codemirror_mode": {
    "name": "ipython",
    "version": 3
   },
   "file_extension": ".py",
   "mimetype": "text/x-python",
   "name": "python",
   "nbconvert_exporter": "python",
   "pygments_lexer": "ipython3",
   "version": "3.11.3"
  },
  "orig_nbformat": 4
 },
 "nbformat": 4,
 "nbformat_minor": 2
}
