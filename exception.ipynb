{
 "cells": [
  {
   "attachments": {},
   "cell_type": "markdown",
   "metadata": {},
   "source": [
    "##### `SyntaxError`"
   ]
  },
  {
   "cell_type": "code",
   "execution_count": null,
   "metadata": {},
   "outputs": [],
   "source": [
    "\"2345678765432"
   ]
  },
  {
   "attachments": {},
   "cell_type": "markdown",
   "metadata": {},
   "source": [
    "##### `NameError`"
   ]
  },
  {
   "cell_type": "code",
   "execution_count": 1,
   "metadata": {},
   "outputs": [
    {
     "ename": "NameError",
     "evalue": "name 'a' is not defined",
     "output_type": "error",
     "traceback": [
      "\u001b[1;31m---------------------------------------------------------------------------\u001b[0m",
      "\u001b[1;31mNameError\u001b[0m                                 Traceback (most recent call last)",
      "Cell \u001b[1;32mIn[1], line 1\u001b[0m\n\u001b[1;32m----> 1\u001b[0m a[\u001b[39m3\u001b[39m]\n",
      "\u001b[1;31mNameError\u001b[0m: name 'a' is not defined"
     ]
    }
   ],
   "source": [
    "a[3]"
   ]
  },
  {
   "attachments": {},
   "cell_type": "markdown",
   "metadata": {},
   "source": [
    "##### `ValueError`"
   ]
  },
  {
   "cell_type": "code",
   "execution_count": null,
   "metadata": {},
   "outputs": [],
   "source": [
    "int(\"3센티미터\")"
   ]
  },
  {
   "attachments": {},
   "cell_type": "markdown",
   "metadata": {},
   "source": [
    "#### 예외 처리하는 방법\n",
    "- 조건문으로 방지하기\n",
    "- `try`문으로 처리하기"
   ]
  },
  {
   "attachments": {},
   "cell_type": "markdown",
   "metadata": {},
   "source": [
    "조건문으로 방지하기"
   ]
  },
  {
   "cell_type": "code",
   "execution_count": null,
   "metadata": {},
   "outputs": [],
   "source": [
    "# 조건문으로 방지하기\n",
    "\n",
    "radius = \"3센티미터\"\n",
    "\n",
    "if radius.isnumeric():\n",
    "    print(\"넓이:\", 3.14 * int(radius) ** 2)\n",
    "else:\n",
    "    print(\"숫자만 입력하세요\")"
   ]
  },
  {
   "attachments": {},
   "cell_type": "markdown",
   "metadata": {},
   "source": [
    "`try`문으로 처리하기"
   ]
  },
  {
   "cell_type": "code",
   "execution_count": null,
   "metadata": {},
   "outputs": [],
   "source": [
    "# try문으로 처리하기\n",
    "\n",
    "radius = \"3센티미터\"\n",
    "\n",
    "try:\n",
    "    print(\"넓이:\", 3.14 * int(radius) ** 2)\n",
    "except:\n",
    "    print(\"어떤 에러가 발생했습니다\")"
   ]
  },
  {
   "cell_type": "code",
   "execution_count": null,
   "metadata": {},
   "outputs": [],
   "source": [
    "list_input = [\"52\", \"273\", \"32\", \"스파이\", \"103\"]\n",
    "list_number = []\n",
    "\n",
    "for item in list_input:\n",
    "    try:\n",
    "        float(item) # 에러가 나면 여기서 정지되므로 아래 코드는 실행되지 않음\n",
    "        list_number.append(item)\n",
    "    except:\n",
    "        pass\n",
    "\n",
    "print(f\"{list_input} 중에서 float형으로 변환 가능한 것들은 {list_number} 입니다\")"
   ]
  },
  {
   "cell_type": "code",
   "execution_count": null,
   "metadata": {},
   "outputs": [],
   "source": [
    "list_input = [\"52\", \"273\", \"32\", \"스파이\", \"103\"]\n",
    "list_number = []\n",
    "\n",
    "for item in list_input:\n",
    "    try:\n",
    "        float(item)\n",
    "    except:\n",
    "        pass\n",
    "    else:   # 이게 더 예쁨\n",
    "        list_number.append(item)\n",
    "\n",
    "print(f\"{list_input} 중에서 float형으로 변환 가능한 것들은 {list_number} 입니다\")"
   ]
  },
  {
   "cell_type": "code",
   "execution_count": null,
   "metadata": {},
   "outputs": [],
   "source": [
    "# try문으로 처리하기\n",
    "\n",
    "radius = \"3센티미터\"\n",
    "\n",
    "try:\n",
    "    radius = int(radius)\n",
    "except:\n",
    "    print(f\"'{radius}'는 숫자가 아닙니다\")\n",
    "else:\n",
    "    print(\"넓이:\", 3.14 * radius ** 2)"
   ]
  },
  {
   "cell_type": "code",
   "execution_count": null,
   "metadata": {},
   "outputs": [],
   "source": [
    "# try문으로 처리하기\n",
    "\n",
    "radius = \"3센티미터\"\n",
    "\n",
    "try:\n",
    "    radius = int(radius)\n",
    "except:\n",
    "    print(f\"'{radius}'는 숫자가 아닙니다\")\n",
    "else:\n",
    "    print(\"넓이:\", 3.14 * radius ** 2)\n",
    "finally:\n",
    "    print(\"프로그램이 종료됩니다\")"
   ]
  },
  {
   "attachments": {},
   "cell_type": "markdown",
   "metadata": {},
   "source": [
    "`try` 구문\n",
    "\n",
    "```py\n",
    "try:\n",
    "    # 예외가 발생할 수 있는 코드\n",
    "except:\n",
    "    # 예외가 발생하면 실행되는 코드\n",
    "else:   # optional\n",
    "    # 예외가 발생하지 않으면 실행되는 코드\n",
    "finally:    # optional\n",
    "    # 끝에 항상 실행되는 코드\n",
    "```"
   ]
  },
  {
   "cell_type": "code",
   "execution_count": 1,
   "metadata": {},
   "outputs": [
    {
     "name": "stdout",
     "output_type": "stream",
     "text": [
      "숫자가 아닙니다\n",
      "오답!\n",
      "오답!\n",
      "오답!\n",
      "오답!\n",
      "오답!\n",
      "정답!\n"
     ]
    }
   ],
   "source": [
    "import random\n",
    "\n",
    "ans = random.randint(1, 10)\n",
    "\n",
    "while True:\n",
    "    n = input(\"숫자를 입력하세요> \")\n",
    "\n",
    "    try:\n",
    "        n = int(n)\n",
    "    except:\n",
    "        print(\"숫자가 아닙니다\")\n",
    "    else:\n",
    "        if n != ans:\n",
    "            print(\"오답!\")\n",
    "        else:\n",
    "            print(\"정답!\")\n",
    "            break"
   ]
  },
  {
   "attachments": {},
   "cell_type": "markdown",
   "metadata": {},
   "source": [
    "`except` 구문의 확장\n",
    "\n",
    "```py\n",
    "except 예외 객체 as 변수:\n",
    "    # 예외가 발생하면 실행되는 코드\n",
    "```"
   ]
  },
  {
   "cell_type": "code",
   "execution_count": 3,
   "metadata": {
    "ExecuteTime": {
     "end_time": "2023-05-01T02:15:32.033688Z",
     "start_time": "2023-05-01T02:15:32.030774600Z"
    }
   },
   "outputs": [
    {
     "name": "stdout",
     "output_type": "stream",
     "text": [
      "예외의 타입: <class 'ValueError'>\n",
      "예외: invalid literal for int() with base 10: '3센티미터'\n"
     ]
    }
   ],
   "source": [
    "radius = \"3센티미터\"\n",
    "\n",
    "try:\n",
    "    radius = int(radius)\n",
    "except Exception as e:\n",
    "    print(f\"예외의 타입: {type(e)}\")\n",
    "    print(f\"예외: {e}\")\n",
    "else:\n",
    "    print(\"넓이:\", 3.14 * radius ** 2)"
   ]
  },
  {
   "cell_type": "markdown",
   "metadata": {
    "collapsed": false
   },
   "source": [
    "`except` 구문 여러 개로 에러 타입 별 조건 분기하기"
   ]
  },
  {
   "cell_type": "code",
   "execution_count": 9,
   "metadata": {
    "ExecuteTime": {
     "end_time": "2023-05-01T02:23:14.577685500Z",
     "start_time": "2023-05-01T02:23:13.304374Z"
    },
    "collapsed": false
   },
   "outputs": [
    {
     "name": "stdout",
     "output_type": "stream",
     "text": [
      "리스트의 인덱스를 벗어났어요\n",
      "예외의 타입: <class 'IndexError'>\n",
      "예외: list index out of range\n"
     ]
    }
   ],
   "source": [
    "list_number = [52, 273, 32, 72, 100]\n",
    "\n",
    "try:\n",
    "    idx = int(input(\"정수 입력> \"))\n",
    "    print(f\"{idx}번째 요소는 {list_number[idx]}입니다\")\n",
    "except ValueError as e:\n",
    "    print(\"정수를 입력하세요\")\n",
    "    print(f\"예외의 타입: {type(e)}\")\n",
    "    print(f\"예외: {e}\")\n",
    "except IndexError as e:\n",
    "    print(\"리스트의 인덱스를 벗어났어요\")\n",
    "    print(f\"예외의 타입: {type(e)}\")\n",
    "    print(f\"예외: {e}\")"
   ]
  },
  {
   "cell_type": "markdown",
   "metadata": {
    "collapsed": false
   },
   "source": [
    "근데 위와 같은 코드는 `ValueError`와 `IndexError`를 제외한 에러는 받지 않아서 문제가 생길 수 있음\n",
    "```py\n",
    "except Exception as e:\n",
    "    # 모든 예외를 처리하는 코드\n",
    "```\n",
    "로 마지막에 작성하면 모든 에러 처리 가능"
   ]
  },
  {
   "cell_type": "code",
   "execution_count": 10,
   "metadata": {
    "ExecuteTime": {
     "end_time": "2023-05-01T02:25:54.993830500Z",
     "start_time": "2023-05-01T02:25:53.030683Z"
    },
    "collapsed": false
   },
   "outputs": [
    {
     "name": "stdout",
     "output_type": "stream",
     "text": [
      "정수를 입력하세요\n",
      "예외의 타입: <class 'ValueError'>\n",
      "예외: invalid literal for int() with base 10: 'ㄷ'\n"
     ]
    }
   ],
   "source": [
    "list_number = [52, 273, 32, 72, 100]\n",
    "\n",
    "try:\n",
    "    idx = int(input(\"정수 입력> \"))\n",
    "    print(f\"{idx}번째 요소는 {list_number[idx]}입니다\")\n",
    "except ValueError as e:\n",
    "    print(\"정수를 입력하세요\")\n",
    "    print(f\"예외의 타입: {type(e)}\")\n",
    "    print(f\"예외: {e}\")\n",
    "except IndexError as e:\n",
    "    print(\"리스트의 인덱스를 벗어났어요\")\n",
    "    print(f\"예외의 타입: {type(e)}\")\n",
    "    print(f\"예외: {e}\")\n",
    "except Exception as e:\n",
    "    print(\"미리 파악하지 못한 예외가 발생했습니다\")\n",
    "    print(f\"예외의 타입: {type(e)}\")\n",
    "    print(f\"예외: {e}\")"
   ]
  },
  {
   "cell_type": "code",
   "execution_count": null,
   "metadata": {
    "collapsed": false
   },
   "outputs": [],
   "source": []
  }
 ],
 "metadata": {
  "kernelspec": {
   "display_name": "Python 3",
   "language": "python",
   "name": "python3"
  },
  "language_info": {
   "codemirror_mode": {
    "name": "ipython",
    "version": 3
   },
   "file_extension": ".py",
   "mimetype": "text/x-python",
   "name": "python",
   "nbconvert_exporter": "python",
   "pygments_lexer": "ipython3",
   "version": "3.11.3"
  },
  "orig_nbformat": 4
 },
 "nbformat": 4,
 "nbformat_minor": 2
}
