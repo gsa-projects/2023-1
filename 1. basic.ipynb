{
 "cells": [
  {
   "attachments": {},
   "cell_type": "markdown",
   "metadata": {
    "collapsed": false
   },
   "source": [
    "## Type\n",
    "\n",
    "`type(element: T) -> T`를 사용해서 `element`의 type을 알아낼 수 있음\n",
    "\n",
    "- `int`: 정수를 담는 자료형\n",
    "- `float`: 실수를 담는 자료형\n",
    "- `str`: 문자열을 담는 자료형\n",
    "- `bool`: True/False를 담는 자료형"
   ]
  },
  {
   "cell_type": "code",
   "execution_count": 7,
   "metadata": {
    "collapsed": true
   },
   "outputs": [
    {
     "name": "stdout",
     "output_type": "stream",
     "text": [
      "<class 'int'>\n",
      "<class 'float'>\n",
      "<class 'str'>\n",
      "<class 'bool'>\n"
     ]
    }
   ],
   "source": [
    "print(type(10))\n",
    "print(type(3.14))\n",
    "print(type('string'))\n",
    "print(type(True))"
   ]
  },
  {
   "cell_type": "code",
   "execution_count": 3,
   "metadata": {
    "collapsed": false
   },
   "outputs": [
    {
     "name": "stdout",
     "output_type": "stream",
     "text": [
      "<class 'type'>\n"
     ]
    }
   ],
   "source": [
    "print(type(type(2104)))"
   ]
  },
  {
   "attachments": {},
   "cell_type": "markdown",
   "metadata": {},
   "source": [
    "`int`는 수 길이에 제한이 없음"
   ]
  },
  {
   "cell_type": "code",
   "execution_count": 3,
   "metadata": {},
   "outputs": [
    {
     "name": "stdout",
     "output_type": "stream",
     "text": [
      "123456789876543212345678998765432112345671234567898765438\n"
     ]
    }
   ],
   "source": [
    "print(123456789876543212345678998765432112345671234567898765438)"
   ]
  },
  {
   "cell_type": "markdown",
   "metadata": {
    "collapsed": false
   },
   "source": [
    "## Operator\n",
    "\n",
    "산술 연산자\n",
    "- `+`: (T, T) -> T\n",
    "- `-`: (T, T) -> T\n",
    "- `*`: (T, T) -> T\n",
    "- `/`: (T, T) -> float\n",
    "- `//`: (T, T) -> T\n",
    "- `%`: (T, T) -> T\n",
    "- `**`: (T, T) -> int | float"
   ]
  },
  {
   "cell_type": "code",
   "execution_count": 2,
   "metadata": {
    "collapsed": false
   },
   "outputs": [
    {
     "name": "stdout",
     "output_type": "stream",
     "text": [
      "7\n",
      "-1\n",
      "12\n",
      "0.75\n",
      "0\n",
      "3\n",
      "81\n"
     ]
    }
   ],
   "source": [
    "print(3 + 4)\n",
    "print(3 - 4)\n",
    "print(3 * 4)\n",
    "print(3 / 4)\n",
    "print(3 // 4)\n",
    "print(3 % 4)\n",
    "print(3 ** 4)"
   ]
  },
  {
   "attachments": {},
   "cell_type": "markdown",
   "metadata": {},
   "source": [
    "복합 연산자(정의역 및 치역은 원연산자와 동일)\n",
    "- `+=`\n",
    "- `-=`\n",
    "- `*=`\n",
    "- `/=`\n",
    "- `//=`\n",
    "- `%=`\n",
    "- `**=`"
   ]
  },
  {
   "attachments": {},
   "cell_type": "markdown",
   "metadata": {},
   "source": [
    "비교 연산자 (모든 연산자의 치역은 `bool`)\n",
    "- `>`\n",
    "- `>=`\n",
    "- `<`\n",
    "- `<=`\n",
    "- `==`\n",
    "- `!=`"
   ]
  },
  {
   "cell_type": "code",
   "execution_count": 14,
   "metadata": {
    "collapsed": false
   },
   "outputs": [
    {
     "name": "stdout",
     "output_type": "stream",
     "text": [
      "False\n",
      "False\n",
      "True\n",
      "True\n",
      "False\n",
      "True\n"
     ]
    }
   ],
   "source": [
    "print(3 > 4)\n",
    "print(3 >= 4)\n",
    "print(3 < 4)\n",
    "print(3 <= 4)\n",
    "print(3 == 4)\n",
    "print(3 != 4)"
   ]
  },
  {
   "attachments": {},
   "cell_type": "markdown",
   "metadata": {},
   "source": [
    "논리 연산자\n",
    "- `A and B`\n",
    "    - `A`가 거짓이라면 `A` 반환\n",
    "    - `A`가 참이라면 `B` 반환\n",
    "- `A or B`\n",
    "    - `A`가 참이라면 `A` 반환\n",
    "    - `A`가 거짓이라면 `B` 반환\n",
    "- `not A`  \n",
    "    - A의 참거짓을 반대로 `bool`로 반환"
   ]
  },
  {
   "cell_type": "code",
   "execution_count": 20,
   "metadata": {},
   "outputs": [
    {
     "name": "stdout",
     "output_type": "stream",
     "text": [
      "4\n",
      "0\n",
      "0\n",
      "3\n",
      "False\n"
     ]
    }
   ],
   "source": [
    "print(3 and 4)\n",
    "print(0 and 1)\n",
    "print(True and 0)\n",
    "print(3 or 4)\n",
    "print(not 3)"
   ]
  },
  {
   "attachments": {},
   "cell_type": "markdown",
   "metadata": {},
   "source": [
    "Python의 특이한 점으로는, 비교 연산자가 chaining이 가능하다"
   ]
  },
  {
   "cell_type": "code",
   "execution_count": 11,
   "metadata": {},
   "outputs": [
    {
     "name": "stdout",
     "output_type": "stream",
     "text": [
      "True\n",
      "True\n",
      "True\n"
     ]
    }
   ],
   "source": [
    "print(1 < 2 and 2 < 3)\n",
    "print(1 < 2 < 3)\n",
    "print(1 < 3 > 2) # 1 < 3 and 3 > 2, 수학적으로 쓸 수 없어도 가능"
   ]
  },
  {
   "attachments": {},
   "cell_type": "markdown",
   "metadata": {},
   "source": [
    "`int`, `float`가 아닌 경우에서의 operator의 동작"
   ]
  },
  {
   "attachments": {},
   "cell_type": "markdown",
   "metadata": {},
   "source": [
    "- `list * int`\n",
    "    - `list`를 `int`번 이어 붙인 리스트 반환\n",
    "- `list + list`\n",
    "    - 앞 리스트에 뒤 리스트를 이어 붙인 리스트 반환"
   ]
  },
  {
   "cell_type": "code",
   "execution_count": 21,
   "metadata": {},
   "outputs": [
    {
     "name": "stdout",
     "output_type": "stream",
     "text": [
      "['a', 'a', 'a']\n",
      "[1, 2, 3, 4, 5, 6, 7, 8]\n"
     ]
    }
   ],
   "source": [
    "print(['a'] * 3)\n",
    "print([1, 2, 3, 4] + [5, 6, 7, 8])"
   ]
  },
  {
   "attachments": {},
   "cell_type": "markdown",
   "metadata": {},
   "source": [
    "- `str 비교연산자 str`\n",
    "    - 사전순 나열로 문자열을 나열했을 때의 순서로 비교연산 수행\n",
    "    - 알파벳 < 그리스문자 < 한글 순서임"
   ]
  },
  {
   "cell_type": "code",
   "execution_count": 24,
   "metadata": {},
   "outputs": [
    {
     "name": "stdout",
     "output_type": "stream",
     "text": [
      "True\n",
      "True\n",
      "True\n"
     ]
    }
   ],
   "source": [
    "print('a' < 'z')\n",
    "print('z' < 'π' < 'ㄱ')\n",
    "print('ㄱ' < 'ㅎ')"
   ]
  },
  {
   "cell_type": "code",
   "execution_count": null,
   "metadata": {},
   "outputs": [],
   "source": []
  }
 ],
 "metadata": {
  "kernelspec": {
   "display_name": "Python 3",
   "language": "python",
   "name": "python3"
  },
  "language_info": {
   "codemirror_mode": {
    "name": "ipython",
    "version": 3
   },
   "file_extension": ".py",
   "mimetype": "text/x-python",
   "name": "python",
   "nbconvert_exporter": "python",
   "pygments_lexer": "ipython3",
   "version": "3.11.2"
  }
 },
 "nbformat": 4,
 "nbformat_minor": 0
}
